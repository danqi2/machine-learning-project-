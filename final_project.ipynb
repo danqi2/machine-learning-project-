{
 "cells": [
  {
   "cell_type": "code",
   "execution_count": 68,
   "metadata": {
    "id": "hoXDSQov4ui8"
   },
   "outputs": [],
   "source": [
    "import pandas as pd\n",
    "import numpy as np\n",
    "%matplotlib inline\n",
    "import matplotlib.pyplot as plt\n",
    "import tensorflow as tf\n",
    "from tensorflow import keras\n",
    "import os\n",
    "#tf.get_logger().setLevel('ERROR') # turn off tf warnings \n",
    "import tensorflow as tf\n",
    "import glob\n",
    "import warnings\n",
    "warnings.filterwarnings(\"ignore\")\n",
    "from sklearn.ensemble import RandomForestClassifier\n",
    "from sklearn.metrics import confusion_matrix\n",
    "from sklearn.metrics import classification_report\n",
    "import sklearn.metrics as metrics\n",
    "from sklearn.metrics import roc_auc_score\n",
    "from sklearn.model_selection import GridSearchCV\n",
    "from sklearn.ensemble import AdaBoostClassifier\n",
    "#from sklearn.ensemble import XGBoostClassifier\n",
    "from sklearn.datasets import make_classification\n",
    "from sklearn.ensemble import GradientBoostingClassifier\n",
    "from sklearn.model_selection import RandomizedSearchCV\n",
    "import seaborn as sns"
   ]
  },
  {
   "cell_type": "markdown",
   "metadata": {
    "id": "ykbq2tym4ui-"
   },
   "source": [
    "# prepare numerical data"
   ]
  },
  {
   "cell_type": "code",
   "execution_count": 69,
   "metadata": {
    "id": "4WQCBynQ4ui_"
   },
   "outputs": [],
   "source": [
    "train = pd.read_csv('train.csv')"
   ]
  },
  {
   "cell_type": "code",
   "execution_count": 70,
   "metadata": {
    "id": "vMmQIzLx4ui_",
    "outputId": "065704f8-d96c-4504-c8f7-9d51642dad5a"
   },
   "outputs": [
    {
     "data": {
      "text/html": [
       "<div>\n",
       "<style scoped>\n",
       "    .dataframe tbody tr th:only-of-type {\n",
       "        vertical-align: middle;\n",
       "    }\n",
       "\n",
       "    .dataframe tbody tr th {\n",
       "        vertical-align: top;\n",
       "    }\n",
       "\n",
       "    .dataframe thead th {\n",
       "        text-align: right;\n",
       "    }\n",
       "</style>\n",
       "<table border=\"1\" class=\"dataframe\">\n",
       "  <thead>\n",
       "    <tr style=\"text-align: right;\">\n",
       "      <th></th>\n",
       "      <th>id</th>\n",
       "      <th>species</th>\n",
       "      <th>margin1</th>\n",
       "      <th>margin2</th>\n",
       "      <th>margin3</th>\n",
       "      <th>margin4</th>\n",
       "      <th>margin5</th>\n",
       "      <th>margin6</th>\n",
       "      <th>margin7</th>\n",
       "      <th>margin8</th>\n",
       "      <th>...</th>\n",
       "      <th>texture55</th>\n",
       "      <th>texture56</th>\n",
       "      <th>texture57</th>\n",
       "      <th>texture58</th>\n",
       "      <th>texture59</th>\n",
       "      <th>texture60</th>\n",
       "      <th>texture61</th>\n",
       "      <th>texture62</th>\n",
       "      <th>texture63</th>\n",
       "      <th>texture64</th>\n",
       "    </tr>\n",
       "  </thead>\n",
       "  <tbody>\n",
       "    <tr>\n",
       "      <th>0</th>\n",
       "      <td>1</td>\n",
       "      <td>Acer_Opalus</td>\n",
       "      <td>0.007812</td>\n",
       "      <td>0.023438</td>\n",
       "      <td>0.023438</td>\n",
       "      <td>0.003906</td>\n",
       "      <td>0.011719</td>\n",
       "      <td>0.009766</td>\n",
       "      <td>0.027344</td>\n",
       "      <td>0.0</td>\n",
       "      <td>...</td>\n",
       "      <td>0.007812</td>\n",
       "      <td>0.000000</td>\n",
       "      <td>0.002930</td>\n",
       "      <td>0.002930</td>\n",
       "      <td>0.035156</td>\n",
       "      <td>0.0</td>\n",
       "      <td>0.0</td>\n",
       "      <td>0.004883</td>\n",
       "      <td>0.000000</td>\n",
       "      <td>0.025391</td>\n",
       "    </tr>\n",
       "    <tr>\n",
       "      <th>1</th>\n",
       "      <td>2</td>\n",
       "      <td>Pterocarya_Stenoptera</td>\n",
       "      <td>0.005859</td>\n",
       "      <td>0.000000</td>\n",
       "      <td>0.031250</td>\n",
       "      <td>0.015625</td>\n",
       "      <td>0.025391</td>\n",
       "      <td>0.001953</td>\n",
       "      <td>0.019531</td>\n",
       "      <td>0.0</td>\n",
       "      <td>...</td>\n",
       "      <td>0.000977</td>\n",
       "      <td>0.000000</td>\n",
       "      <td>0.000000</td>\n",
       "      <td>0.000977</td>\n",
       "      <td>0.023438</td>\n",
       "      <td>0.0</td>\n",
       "      <td>0.0</td>\n",
       "      <td>0.000977</td>\n",
       "      <td>0.039062</td>\n",
       "      <td>0.022461</td>\n",
       "    </tr>\n",
       "    <tr>\n",
       "      <th>2</th>\n",
       "      <td>3</td>\n",
       "      <td>Quercus_Hartwissiana</td>\n",
       "      <td>0.005859</td>\n",
       "      <td>0.009766</td>\n",
       "      <td>0.019531</td>\n",
       "      <td>0.007812</td>\n",
       "      <td>0.003906</td>\n",
       "      <td>0.005859</td>\n",
       "      <td>0.068359</td>\n",
       "      <td>0.0</td>\n",
       "      <td>...</td>\n",
       "      <td>0.154300</td>\n",
       "      <td>0.000000</td>\n",
       "      <td>0.005859</td>\n",
       "      <td>0.000977</td>\n",
       "      <td>0.007812</td>\n",
       "      <td>0.0</td>\n",
       "      <td>0.0</td>\n",
       "      <td>0.000000</td>\n",
       "      <td>0.020508</td>\n",
       "      <td>0.002930</td>\n",
       "    </tr>\n",
       "    <tr>\n",
       "      <th>3</th>\n",
       "      <td>5</td>\n",
       "      <td>Tilia_Tomentosa</td>\n",
       "      <td>0.000000</td>\n",
       "      <td>0.003906</td>\n",
       "      <td>0.023438</td>\n",
       "      <td>0.005859</td>\n",
       "      <td>0.021484</td>\n",
       "      <td>0.019531</td>\n",
       "      <td>0.023438</td>\n",
       "      <td>0.0</td>\n",
       "      <td>...</td>\n",
       "      <td>0.000000</td>\n",
       "      <td>0.000977</td>\n",
       "      <td>0.000000</td>\n",
       "      <td>0.000000</td>\n",
       "      <td>0.020508</td>\n",
       "      <td>0.0</td>\n",
       "      <td>0.0</td>\n",
       "      <td>0.017578</td>\n",
       "      <td>0.000000</td>\n",
       "      <td>0.047852</td>\n",
       "    </tr>\n",
       "    <tr>\n",
       "      <th>4</th>\n",
       "      <td>6</td>\n",
       "      <td>Quercus_Variabilis</td>\n",
       "      <td>0.005859</td>\n",
       "      <td>0.003906</td>\n",
       "      <td>0.048828</td>\n",
       "      <td>0.009766</td>\n",
       "      <td>0.013672</td>\n",
       "      <td>0.015625</td>\n",
       "      <td>0.005859</td>\n",
       "      <td>0.0</td>\n",
       "      <td>...</td>\n",
       "      <td>0.096680</td>\n",
       "      <td>0.000000</td>\n",
       "      <td>0.021484</td>\n",
       "      <td>0.000000</td>\n",
       "      <td>0.000000</td>\n",
       "      <td>0.0</td>\n",
       "      <td>0.0</td>\n",
       "      <td>0.000000</td>\n",
       "      <td>0.000000</td>\n",
       "      <td>0.031250</td>\n",
       "    </tr>\n",
       "  </tbody>\n",
       "</table>\n",
       "<p>5 rows × 194 columns</p>\n",
       "</div>"
      ],
      "text/plain": [
       "   id                species   margin1   margin2   margin3   margin4  \\\n",
       "0   1            Acer_Opalus  0.007812  0.023438  0.023438  0.003906   \n",
       "1   2  Pterocarya_Stenoptera  0.005859  0.000000  0.031250  0.015625   \n",
       "2   3   Quercus_Hartwissiana  0.005859  0.009766  0.019531  0.007812   \n",
       "3   5        Tilia_Tomentosa  0.000000  0.003906  0.023438  0.005859   \n",
       "4   6     Quercus_Variabilis  0.005859  0.003906  0.048828  0.009766   \n",
       "\n",
       "    margin5   margin6   margin7  margin8  ...  texture55  texture56  \\\n",
       "0  0.011719  0.009766  0.027344      0.0  ...   0.007812   0.000000   \n",
       "1  0.025391  0.001953  0.019531      0.0  ...   0.000977   0.000000   \n",
       "2  0.003906  0.005859  0.068359      0.0  ...   0.154300   0.000000   \n",
       "3  0.021484  0.019531  0.023438      0.0  ...   0.000000   0.000977   \n",
       "4  0.013672  0.015625  0.005859      0.0  ...   0.096680   0.000000   \n",
       "\n",
       "   texture57  texture58  texture59  texture60  texture61  texture62  \\\n",
       "0   0.002930   0.002930   0.035156        0.0        0.0   0.004883   \n",
       "1   0.000000   0.000977   0.023438        0.0        0.0   0.000977   \n",
       "2   0.005859   0.000977   0.007812        0.0        0.0   0.000000   \n",
       "3   0.000000   0.000000   0.020508        0.0        0.0   0.017578   \n",
       "4   0.021484   0.000000   0.000000        0.0        0.0   0.000000   \n",
       "\n",
       "   texture63  texture64  \n",
       "0   0.000000   0.025391  \n",
       "1   0.039062   0.022461  \n",
       "2   0.020508   0.002930  \n",
       "3   0.000000   0.047852  \n",
       "4   0.000000   0.031250  \n",
       "\n",
       "[5 rows x 194 columns]"
      ]
     },
     "execution_count": 70,
     "metadata": {},
     "output_type": "execute_result"
    }
   ],
   "source": [
    "train.head()"
   ]
  },
  {
   "cell_type": "markdown",
   "metadata": {
    "id": "cjbcD0L54ujA"
   },
   "source": [
    "balanced class"
   ]
  },
  {
   "cell_type": "code",
   "execution_count": 71,
   "metadata": {
    "id": "asNkLgYC4ujB",
    "outputId": "a5711053-28bd-4afe-a10e-cf616d29dae5"
   },
   "outputs": [
    {
     "data": {
      "image/png": "[encoded data removed]",
      "text/plain": [
       "<Figure size 432x288 with 1 Axes>"
      ]
     },
     "metadata": {
      "needs_background": "light"
     },
     "output_type": "display_data"
    }
   ],
   "source": [
    "train['species'].value_counts().plot(kind = 'barh')\n",
    "plt.show()"
   ]
  },
  {
   "cell_type": "code",
   "execution_count": 72,
   "metadata": {
    "id": "hiB2_EF64ujC"
   },
   "outputs": [],
   "source": [
    "test = pd.read_csv('test.csv')"
   ]
  },
  {
   "cell_type": "code",
   "execution_count": 73,
   "metadata": {
    "id": "d6pmORgD4ujC",
    "outputId": "3871fa3b-f948-427d-fd66-19ad77957c66"
   },
   "outputs": [
    {
     "data": {
      "text/html": [
       "<div>\n",
       "<style scoped>\n",
       "    .dataframe tbody tr th:only-of-type {\n",
       "        vertical-align: middle;\n",
       "    }\n",
       "\n",
       "    .dataframe tbody tr th {\n",
       "        vertical-align: top;\n",
       "    }\n",
       "\n",
       "    .dataframe thead th {\n",
       "        text-align: right;\n",
       "    }\n",
       "</style>\n",
       "<table border=\"1\" class=\"dataframe\">\n",
       "  <thead>\n",
       "    <tr style=\"text-align: right;\">\n",
       "      <th></th>\n",
       "      <th>id</th>\n",
       "      <th>margin1</th>\n",
       "      <th>margin2</th>\n",
       "      <th>margin3</th>\n",
       "      <th>margin4</th>\n",
       "      <th>margin5</th>\n",
       "      <th>margin6</th>\n",
       "      <th>margin7</th>\n",
       "      <th>margin8</th>\n",
       "      <th>margin9</th>\n",
       "      <th>...</th>\n",
       "      <th>texture55</th>\n",
       "      <th>texture56</th>\n",
       "      <th>texture57</th>\n",
       "      <th>texture58</th>\n",
       "      <th>texture59</th>\n",
       "      <th>texture60</th>\n",
       "      <th>texture61</th>\n",
       "      <th>texture62</th>\n",
       "      <th>texture63</th>\n",
       "      <th>texture64</th>\n",
       "    </tr>\n",
       "  </thead>\n",
       "  <tbody>\n",
       "    <tr>\n",
       "      <th>0</th>\n",
       "      <td>4</td>\n",
       "      <td>0.019531</td>\n",
       "      <td>0.009766</td>\n",
       "      <td>0.078125</td>\n",
       "      <td>0.011719</td>\n",
       "      <td>0.003906</td>\n",
       "      <td>0.015625</td>\n",
       "      <td>0.005859</td>\n",
       "      <td>0.0</td>\n",
       "      <td>0.005859</td>\n",
       "      <td>...</td>\n",
       "      <td>0.006836</td>\n",
       "      <td>0.000000</td>\n",
       "      <td>0.015625</td>\n",
       "      <td>0.000977</td>\n",
       "      <td>0.015625</td>\n",
       "      <td>0.0</td>\n",
       "      <td>0.0</td>\n",
       "      <td>0.000000</td>\n",
       "      <td>0.003906</td>\n",
       "      <td>0.053711</td>\n",
       "    </tr>\n",
       "    <tr>\n",
       "      <th>1</th>\n",
       "      <td>7</td>\n",
       "      <td>0.007812</td>\n",
       "      <td>0.005859</td>\n",
       "      <td>0.064453</td>\n",
       "      <td>0.009766</td>\n",
       "      <td>0.003906</td>\n",
       "      <td>0.013672</td>\n",
       "      <td>0.007812</td>\n",
       "      <td>0.0</td>\n",
       "      <td>0.033203</td>\n",
       "      <td>...</td>\n",
       "      <td>0.000000</td>\n",
       "      <td>0.000000</td>\n",
       "      <td>0.006836</td>\n",
       "      <td>0.001953</td>\n",
       "      <td>0.013672</td>\n",
       "      <td>0.0</td>\n",
       "      <td>0.0</td>\n",
       "      <td>0.000977</td>\n",
       "      <td>0.037109</td>\n",
       "      <td>0.044922</td>\n",
       "    </tr>\n",
       "    <tr>\n",
       "      <th>2</th>\n",
       "      <td>9</td>\n",
       "      <td>0.000000</td>\n",
       "      <td>0.000000</td>\n",
       "      <td>0.001953</td>\n",
       "      <td>0.021484</td>\n",
       "      <td>0.041016</td>\n",
       "      <td>0.000000</td>\n",
       "      <td>0.023438</td>\n",
       "      <td>0.0</td>\n",
       "      <td>0.011719</td>\n",
       "      <td>...</td>\n",
       "      <td>0.128910</td>\n",
       "      <td>0.000000</td>\n",
       "      <td>0.000977</td>\n",
       "      <td>0.000000</td>\n",
       "      <td>0.000000</td>\n",
       "      <td>0.0</td>\n",
       "      <td>0.0</td>\n",
       "      <td>0.015625</td>\n",
       "      <td>0.000000</td>\n",
       "      <td>0.000000</td>\n",
       "    </tr>\n",
       "    <tr>\n",
       "      <th>3</th>\n",
       "      <td>12</td>\n",
       "      <td>0.000000</td>\n",
       "      <td>0.000000</td>\n",
       "      <td>0.009766</td>\n",
       "      <td>0.011719</td>\n",
       "      <td>0.017578</td>\n",
       "      <td>0.000000</td>\n",
       "      <td>0.003906</td>\n",
       "      <td>0.0</td>\n",
       "      <td>0.003906</td>\n",
       "      <td>...</td>\n",
       "      <td>0.012695</td>\n",
       "      <td>0.015625</td>\n",
       "      <td>0.002930</td>\n",
       "      <td>0.036133</td>\n",
       "      <td>0.013672</td>\n",
       "      <td>0.0</td>\n",
       "      <td>0.0</td>\n",
       "      <td>0.089844</td>\n",
       "      <td>0.000000</td>\n",
       "      <td>0.008789</td>\n",
       "    </tr>\n",
       "    <tr>\n",
       "      <th>4</th>\n",
       "      <td>13</td>\n",
       "      <td>0.001953</td>\n",
       "      <td>0.000000</td>\n",
       "      <td>0.015625</td>\n",
       "      <td>0.009766</td>\n",
       "      <td>0.039062</td>\n",
       "      <td>0.000000</td>\n",
       "      <td>0.009766</td>\n",
       "      <td>0.0</td>\n",
       "      <td>0.005859</td>\n",
       "      <td>...</td>\n",
       "      <td>0.000000</td>\n",
       "      <td>0.042969</td>\n",
       "      <td>0.016602</td>\n",
       "      <td>0.010742</td>\n",
       "      <td>0.041016</td>\n",
       "      <td>0.0</td>\n",
       "      <td>0.0</td>\n",
       "      <td>0.007812</td>\n",
       "      <td>0.009766</td>\n",
       "      <td>0.007812</td>\n",
       "    </tr>\n",
       "  </tbody>\n",
       "</table>\n",
       "<p>5 rows × 193 columns</p>\n",
       "</div>"
      ],
      "text/plain": [
       "   id   margin1   margin2   margin3   margin4   margin5   margin6   margin7  \\\n",
       "0   4  0.019531  0.009766  0.078125  0.011719  0.003906  0.015625  0.005859   \n",
       "1   7  0.007812  0.005859  0.064453  0.009766  0.003906  0.013672  0.007812   \n",
       "2   9  0.000000  0.000000  0.001953  0.021484  0.041016  0.000000  0.023438   \n",
       "3  12  0.000000  0.000000  0.009766  0.011719  0.017578  0.000000  0.003906   \n",
       "4  13  0.001953  0.000000  0.015625  0.009766  0.039062  0.000000  0.009766   \n",
       "\n",
       "   margin8   margin9  ...  texture55  texture56  texture57  texture58  \\\n",
       "0      0.0  0.005859  ...   0.006836   0.000000   0.015625   0.000977   \n",
       "1      0.0  0.033203  ...   0.000000   0.000000   0.006836   0.001953   \n",
       "2      0.0  0.011719  ...   0.128910   0.000000   0.000977   0.000000   \n",
       "3      0.0  0.003906  ...   0.012695   0.015625   0.002930   0.036133   \n",
       "4      0.0  0.005859  ...   0.000000   0.042969   0.016602   0.010742   \n",
       "\n",
       "   texture59  texture60  texture61  texture62  texture63  texture64  \n",
       "0   0.015625        0.0        0.0   0.000000   0.003906   0.053711  \n",
       "1   0.013672        0.0        0.0   0.000977   0.037109   0.044922  \n",
       "2   0.000000        0.0        0.0   0.015625   0.000000   0.000000  \n",
       "3   0.013672        0.0        0.0   0.089844   0.000000   0.008789  \n",
       "4   0.041016        0.0        0.0   0.007812   0.009766   0.007812  \n",
       "\n",
       "[5 rows x 193 columns]"
      ]
     },
     "execution_count": 73,
     "metadata": {},
     "output_type": "execute_result"
    }
   ],
   "source": [
    "test.head()"
   ]
  },
  {
   "cell_type": "markdown",
   "metadata": {
    "id": "4lJUjDuE4ujD"
   },
   "source": [
    "get x and y from raw data"
   ]
  },
  {
   "cell_type": "code",
   "execution_count": 74,
   "metadata": {
    "id": "sI_UFJ0_4ujD"
   },
   "outputs": [],
   "source": [
    "Y_id = train.pop('id')\n",
    "\n",
    "Y_label = train.pop('species')\n",
    "\n",
    "test_id = test.pop('id')\n",
    "\n",
    "X = train.values\n",
    "\n",
    "X_test = test.values"
   ]
  },
  {
   "cell_type": "markdown",
   "metadata": {
    "id": "XUVrW3iB4ujE"
   },
   "source": [
    "normalize data"
   ]
  },
  {
   "cell_type": "code",
   "execution_count": 75,
   "metadata": {
    "id": "dDJ4gMEv4ujE"
   },
   "outputs": [],
   "source": [
    "from sklearn.preprocessing import StandardScaler\n",
    "\n",
    "scaler = StandardScaler()\n",
    "\n",
    "X_scaled = scaler.fit_transform(X)\n",
    "\n",
    "X_testS = scaler.transform(X_test)"
   ]
  },
  {
   "cell_type": "markdown",
   "metadata": {
    "id": "LYnRdQWW4ujF"
   },
   "source": [
    "split training set to training and validation"
   ]
  },
  {
   "cell_type": "code",
   "execution_count": 76,
   "metadata": {
    "id": "akqf0ZIT4ujF"
   },
   "outputs": [],
   "source": [
    "from sklearn.model_selection import StratifiedShuffleSplit\n",
    "\n",
    "sss = StratifiedShuffleSplit(random_state=233, test_size=0.2)"
   ]
  },
  {
   "cell_type": "code",
   "execution_count": 77,
   "metadata": {
    "id": "x1VGo1Qg4ujF"
   },
   "outputs": [],
   "source": [
    "#from sklearn.model_selection import train_test_split\n",
    "\n",
    "from sklearn.preprocessing import LabelEncoder\n",
    "\n",
    "encoder = LabelEncoder()\n",
    "\n",
    "y_label = pd.Series(encoder.fit_transform(Y_label))\n",
    "\n",
    "#x_train, x_valid, y_train, y_valid\n",
    "train_ID, valid_ID = next(sss.split(X_scaled, y_label))"
   ]
  },
  {
   "cell_type": "code",
   "execution_count": 78,
   "metadata": {
    "id": "Cvu5TnbB4ujG"
   },
   "outputs": [],
   "source": [
    "X_train, y_train = X_scaled[train_ID], y_label[train_ID]\n",
    "\n",
    "X_valid, y_valid = X_scaled[valid_ID], y_label[valid_ID]"
   ]
  },
  {
   "cell_type": "code",
   "execution_count": 79,
   "metadata": {
    "id": "e3MDBaLN4ujG"
   },
   "outputs": [],
   "source": [
    "train_id = Y_id[train_ID]\n",
    "train_species = Y_label[train_ID]\n",
    "\n",
    "valid_id = Y_id[valid_ID]\n",
    "valid_species = Y_label[valid_ID]"
   ]
  },
  {
   "cell_type": "markdown",
   "metadata": {
    "id": "Y__BT2K24ujH"
   },
   "source": [
    "# ml example, gradient boosting with grid search"
   ]
  },
  {
   "cell_type": "code",
   "execution_count": 17,
   "metadata": {},
   "outputs": [],
   "source": [
    "from sklearn.ensemble import GradientBoostingClassifier"
   ]
  },
  {
   "cell_type": "code",
   "execution_count": 29,
   "metadata": {},
   "outputs": [],
   "source": [
    "xg= GradientBoostingClassifier(random_state=0)\n",
    "# create a dictionary of parameters\n",
    "params = {\n",
    "    'n_estimators': (100, 200),\n",
    "    'learning_rate': list(np.arange(0.1, 0.3, 0.1)),\n",
    "    'max_depth': [1, 3]\n",
    "    }\n",
    "# create randomized search object with various combinations of parameters\n",
    "search_xg= GridSearchCV(xg, params, cv=3, scoring = 'accuracy', refit = True, n_jobs=-1, verbose = 5)\n",
    "#search_xg.fit(X_train, y_train) "
   ]
  },
  {
   "cell_type": "code",
   "execution_count": null,
   "metadata": {},
   "outputs": [
    {
     "name": "stdout",
     "output_type": "stream",
     "text": [
      "Fitting 3 folds for each of 8 candidates, totalling 24 fits\n"
     ]
    },
    {
     "name": "stderr",
     "output_type": "stream",
     "text": [
      "[Parallel(n_jobs=-1)]: Using backend LokyBackend with 4 concurrent workers.\n",
      "[Parallel(n_jobs=-1)]: Done  10 tasks      | elapsed: 17.6min\n"
     ]
    }
   ],
   "source": [
    "search_xg.fit(X_train, y_train) "
   ]
  },
  {
   "cell_type": "code",
   "execution_count": 31,
   "metadata": {},
   "outputs": [],
   "source": [
    "xg= GradientBoostingClassifier(random_state=0)"
   ]
  },
  {
   "cell_type": "code",
   "execution_count": 32,
   "metadata": {},
   "outputs": [
    {
     "data": {
      "text/plain": [
       "GradientBoostingClassifier(max_depth=2, n_estimators=200, random_state=0)"
      ]
     },
     "execution_count": 32,
     "metadata": {},
     "output_type": "execute_result"
    }
   ],
   "source": [
    "search_xg_best= search_xg.best_estimator_ \n",
    "search_xg_best"
   ]
  },
  {
   "cell_type": "code",
   "execution_count": 47,
   "metadata": {},
   "outputs": [
    {
     "data": {
      "text/plain": [
       "array([0.00000000e+00, 1.16299598e-18, 2.12004973e-20, 1.36097834e-18,\n",
       "       6.07488669e-19, 2.91711475e-18, 2.08398853e-10, 4.36164907e-13,\n",
       "       2.72726419e-19, 1.18649925e-12, 8.92132855e-08, 1.36904198e-16,\n",
       "       4.18345658e-15, 3.44885342e-12, 1.09424617e-16, 2.31638813e-11,\n",
       "       7.11716650e-06, 2.24873109e-15, 5.13814926e-08, 4.15387057e-09,\n",
       "       4.38493364e-20, 1.76525290e-10, 1.82550941e-06, 7.18262193e-07,\n",
       "       4.79846300e-19, 2.79706372e-18, 1.46183202e-17, 1.86262471e-18,\n",
       "       7.97559154e-09, 1.59133076e-11, 4.97091910e-16, 8.80511339e-13,\n",
       "       1.03440131e-10, 2.62371294e-12, 3.63752329e-16, 8.42428330e-12,\n",
       "       5.37894104e-11, 7.65641303e-07, 1.75187300e-18, 2.78982534e-14,\n",
       "       8.52828665e-14, 1.40854822e-11, 5.41820983e-17, 3.55699274e-10,\n",
       "       6.34328911e-12, 8.74485448e-11, 2.45192634e-10, 1.29122703e-14,\n",
       "       1.30099691e-08, 5.07571177e-16, 1.15008890e-05, 4.44278676e-15,\n",
       "       1.97911529e-18, 1.80196214e-08, 1.44835760e-14, 1.04961329e-05,\n",
       "       6.98391575e-13, 2.07359504e-12, 1.51502459e-10, 1.05020406e-11,\n",
       "       1.69819550e-14, 1.01508869e-05, 1.34748555e-08, 1.15163051e-06,\n",
       "       8.34392128e-16, 6.56702776e-07, 1.29324019e-17, 6.36892746e-18,\n",
       "       1.65889778e-14, 2.21762228e-07, 2.07945915e-18, 2.80781802e-14,\n",
       "       9.31913331e-09, 1.72964172e-11, 5.83906707e-12, 1.24820645e-05,\n",
       "       1.39312892e-14, 5.88636512e-12, 4.86942218e-13, 8.01110162e-07,\n",
       "       9.21779963e-13, 2.65429697e-10, 4.17280174e-08, 1.28390337e-10,\n",
       "       3.45374055e-19, 4.06289105e-14, 2.48948486e-16, 4.34353719e-10,\n",
       "       8.88787864e-19, 6.94059428e-08, 2.45295689e-15, 1.34896077e-05,\n",
       "       1.48119812e-16, 4.38658949e-13, 9.40730679e-14, 1.07817955e-07,\n",
       "       8.13583049e-06, 4.46905805e-14, 8.53945513e-09, 1.55201652e-08,\n",
       "       1.18957682e-20, 3.58880453e-11, 2.06674023e-14, 6.44333016e-13,\n",
       "       1.05587455e-09, 3.26777708e-19, 8.02408209e-18, 2.61223921e-14,\n",
       "       7.95013740e-11, 1.77778039e-09, 5.52047607e-09, 6.84840968e-18,\n",
       "       7.21787090e-07, 2.05809261e-06, 5.45665872e-11, 5.51839990e-07,\n",
       "       2.21644403e-09, 3.29236303e-19, 6.49670254e-09, 8.51429733e-13,\n",
       "       1.64296667e-19, 1.15953415e-15, 3.80384675e-13, 6.76592544e-11,\n",
       "       3.51572270e-15, 1.88569573e-14, 1.80359552e-09, 3.72653912e-13,\n",
       "       5.25547681e-08, 1.00661716e-12, 3.43570707e-21, 3.62770907e-05,\n",
       "       9.82551749e-16, 2.29209899e-06, 9.25927316e-14, 7.53159316e-15,\n",
       "       1.58420879e-10, 5.04083991e-10, 3.80184993e-07, 2.85577533e-07,\n",
       "       4.11389120e-19, 4.95613198e-08, 7.76972116e-10, 7.96635747e-12,\n",
       "       1.05220985e-07, 1.60757323e-09, 1.03819062e-10, 5.67376059e-10,\n",
       "       7.86890464e-09, 4.79518612e-20, 2.04247673e-18, 9.20387319e-12,\n",
       "       8.04821114e-09, 2.90703761e-20, 1.70595543e-13, 1.00000000e+00,\n",
       "       1.16942183e-05, 9.84831967e-12, 2.57973542e-08, 1.21313893e-15,\n",
       "       7.93045523e-10, 5.58835584e-07, 2.41030770e-17, 9.74892226e-10,\n",
       "       5.99990689e-12, 4.52906019e-05, 1.94066729e-14, 1.32170656e-08,\n",
       "       4.95070819e-07, 1.11298912e-07, 2.61364681e-06, 1.27363632e-09,\n",
       "       1.75339060e-08, 2.46634121e-06, 5.42832469e-06, 3.87918760e-17,\n",
       "       7.72194107e-10, 8.48025657e-09, 1.00000000e+00, 7.56525001e-12,\n",
       "       8.54677244e-18, 1.83474745e-12, 4.53753950e-11, 1.24892434e-11,\n",
       "       1.25163037e-09, 2.97611147e-07, 3.46039266e-05, 5.85917785e-13,\n",
       "       2.50615243e-08, 9.97216351e-10, 9.91257338e-19, 3.07646926e-19,\n",
       "       4.26812783e-11, 2.11560511e-05, 2.22975168e-21, 1.22389232e-08,\n",
       "       1.16818074e-08, 3.21803155e-13])"
      ]
     },
     "execution_count": 47,
     "metadata": {},
     "output_type": "execute_result"
    }
   ],
   "source": [
    "y_prob_xgb = search_xg_best.predict_proba(X_valid)[:,1]\n",
    "y_prob_xgb"
   ]
  },
  {
   "cell_type": "code",
   "execution_count": 43,
   "metadata": {},
   "outputs": [
    {
     "data": {
      "text/plain": [
       "array([57, 84, 90, 24, 92, 90,  9, 27, 67, 80, 43, 78, 53, 32, 51, 72, 62,\n",
       "        0, 79, 63, 61, 54, 31, 98, 18, 51, 65, 84, 56, 91, 56, 62,  8, 80,\n",
       "        5, 87, 55, 28, 38, 38,  3, 96, 73, 53, 91, 11,  3, 71, 49, 48, 73,\n",
       "        2, 84, 21, 59, 94, 27, 68, 52, 98, 79, 41, 83, 27, 29, 83, 82, 15,\n",
       "       50,  3, 46, 71, 45, 39, 34, 86, 29, 86, 79, 79, 26, 11, 70, 36, 81,\n",
       "       39, 95,  5, 91, 28, 44,  8, 52, 66,  4,  3, 94, 35, 20, 20, 15, 94,\n",
       "       47, 13, 39, 77, 43, 47, 79, 22, 56,  2, 23, 31, 45, 31,  4, 97, 17,\n",
       "       56, 82, 96, 76, 14, 30, 48, 83, 19, 28, 25, 88, 65, 49, 54, 77, 22,\n",
       "       64, 41, 68, 22, 95, 72, 22,  7, 69, 67, 10, 25,  6, 65, 89, 61,  3,\n",
       "       89, 29,  1, 94, 31, 83, 51, 57,  8, 74, 33, 28, 69, 54, 66, 62, 11,\n",
       "       96,  0, 31, 71,  8, 14, 87, 21,  1, 12, 67, 14, 33, 34, 41, 83, 30,\n",
       "       79, 33, 57, 36,  6, 54, 50, 76, 29, 87, 91])"
      ]
     },
     "execution_count": 43,
     "metadata": {},
     "output_type": "execute_result"
    }
   ],
   "source": [
    "y_pred_xgb = search_xg_best.predict(X_valid)\n",
    "y_pred_xgb"
   ]
  },
  {
   "cell_type": "code",
   "execution_count": 44,
   "metadata": {},
   "outputs": [
    {
     "data": {
      "text/plain": [
       "array([[2, 0, 0, ..., 0, 0, 0],\n",
       "       [0, 2, 0, ..., 0, 0, 0],\n",
       "       [0, 0, 2, ..., 0, 0, 0],\n",
       "       ...,\n",
       "       [0, 0, 0, ..., 2, 0, 0],\n",
       "       [0, 0, 0, ..., 0, 1, 0],\n",
       "       [0, 0, 0, ..., 0, 0, 2]])"
      ]
     },
     "execution_count": 44,
     "metadata": {},
     "output_type": "execute_result"
    }
   ],
   "source": [
    "confusion_matrix(y_true=y_valid, y_pred=y_pred_xgb)"
   ]
  },
  {
   "cell_type": "code",
   "execution_count": 51,
   "metadata": {},
   "outputs": [
    {
     "name": "stdout",
     "output_type": "stream",
     "text": [
      "              precision    recall  f1-score   support\n",
      "\n",
      "           0       1.00      1.00      1.00         2\n",
      "           1       1.00      1.00      1.00         2\n",
      "           2       1.00      1.00      1.00         2\n",
      "           3       0.40      1.00      0.57         2\n",
      "           4       1.00      1.00      1.00         2\n",
      "           5       1.00      1.00      1.00         2\n",
      "           6       1.00      1.00      1.00         2\n",
      "           7       1.00      0.50      0.67         2\n",
      "           8       0.50      1.00      0.67         2\n",
      "           9       1.00      0.50      0.67         2\n",
      "          10       1.00      0.50      0.67         2\n",
      "          11       0.67      1.00      0.80         2\n",
      "          12       1.00      0.50      0.67         2\n",
      "          13       1.00      0.50      0.67         2\n",
      "          14       0.67      1.00      0.80         2\n",
      "          15       1.00      1.00      1.00         2\n",
      "          16       0.00      0.00      0.00         2\n",
      "          17       1.00      0.50      0.67         2\n",
      "          18       1.00      0.50      0.67         2\n",
      "          19       1.00      0.50      0.67         2\n",
      "          20       0.50      0.50      0.50         2\n",
      "          21       1.00      1.00      1.00         2\n",
      "          22       0.50      1.00      0.67         2\n",
      "          23       1.00      0.50      0.67         2\n",
      "          24       1.00      0.50      0.67         2\n",
      "          25       1.00      1.00      1.00         2\n",
      "          26       1.00      0.50      0.67         2\n",
      "          27       0.67      1.00      0.80         2\n",
      "          28       0.50      1.00      0.67         2\n",
      "          29       0.50      1.00      0.67         2\n",
      "          30       1.00      1.00      1.00         2\n",
      "          31       0.20      0.50      0.29         2\n",
      "          32       1.00      0.50      0.67         2\n",
      "          33       0.67      1.00      0.80         2\n",
      "          34       1.00      1.00      1.00         2\n",
      "          35       1.00      0.50      0.67         2\n",
      "          36       0.50      0.50      0.50         2\n",
      "          37       0.00      0.00      0.00         2\n",
      "          38       1.00      1.00      1.00         2\n",
      "          39       0.33      0.50      0.40         2\n",
      "          40       0.00      0.00      0.00         2\n",
      "          41       0.67      1.00      0.80         2\n",
      "          42       0.00      0.00      0.00         2\n",
      "          43       1.00      1.00      1.00         2\n",
      "          44       1.00      0.50      0.67         2\n",
      "          45       0.00      0.00      0.00         2\n",
      "          46       1.00      0.50      0.67         2\n",
      "          47       1.00      1.00      1.00         2\n",
      "          48       1.00      1.00      1.00         2\n",
      "          49       0.50      0.50      0.50         2\n",
      "          50       0.50      0.50      0.50         2\n",
      "          51       0.67      1.00      0.80         2\n",
      "          52       1.00      1.00      1.00         2\n",
      "          53       1.00      1.00      1.00         2\n",
      "          54       0.50      1.00      0.67         2\n",
      "          55       1.00      0.50      0.67         2\n",
      "          56       0.25      0.50      0.33         2\n",
      "          57       0.67      1.00      0.80         2\n",
      "          58       0.00      0.00      0.00         2\n",
      "          59       1.00      0.50      0.67         2\n",
      "          60       0.00      0.00      0.00         2\n",
      "          61       1.00      1.00      1.00         2\n",
      "          62       0.67      1.00      0.80         2\n",
      "          63       0.00      0.00      0.00         2\n",
      "          64       0.00      0.00      0.00         2\n",
      "          65       0.67      1.00      0.80         2\n",
      "          66       1.00      1.00      1.00         2\n",
      "          67       0.67      1.00      0.80         2\n",
      "          68       1.00      1.00      1.00         2\n",
      "          69       0.00      0.00      0.00         2\n",
      "          70       0.00      0.00      0.00         2\n",
      "          71       0.33      0.50      0.40         2\n",
      "          72       0.50      0.50      0.50         2\n",
      "          73       1.00      1.00      1.00         2\n",
      "          74       1.00      0.50      0.67         2\n",
      "          75       0.00      0.00      0.00         2\n",
      "          76       1.00      1.00      1.00         2\n",
      "          77       1.00      1.00      1.00         2\n",
      "          78       1.00      0.50      0.67         2\n",
      "          79       0.33      1.00      0.50         2\n",
      "          80       0.50      0.50      0.50         2\n",
      "          81       1.00      0.50      0.67         2\n",
      "          82       1.00      1.00      1.00         2\n",
      "          83       0.20      0.50      0.29         2\n",
      "          84       0.33      0.50      0.40         2\n",
      "          85       0.00      0.00      0.00         2\n",
      "          86       0.50      0.50      0.50         2\n",
      "          87       0.67      1.00      0.80         2\n",
      "          88       1.00      0.50      0.67         2\n",
      "          89       1.00      1.00      1.00         2\n",
      "          90       1.00      1.00      1.00         2\n",
      "          91       0.50      1.00      0.67         2\n",
      "          92       1.00      0.50      0.67         2\n",
      "          93       0.00      0.00      0.00         2\n",
      "          94       0.50      1.00      0.67         2\n",
      "          95       1.00      1.00      1.00         2\n",
      "          96       0.67      1.00      0.80         2\n",
      "          97       1.00      0.50      0.67         2\n",
      "          98       1.00      1.00      1.00         2\n",
      "\n",
      "    accuracy                           0.68       198\n",
      "   macro avg       0.69      0.68      0.65       198\n",
      "weighted avg       0.69      0.68      0.65       198\n",
      "\n"
     ]
    }
   ],
   "source": [
    "print(classification_report(y_valid, y_pred_xgb))"
   ]
  },
  {
   "cell_type": "code",
   "execution_count": 87,
   "metadata": {},
   "outputs": [
    {
     "data": {
      "text/plain": [
       "array([187,   6, 177, 164,   2,  40,  35, 156, 128, 149])"
      ]
     },
     "execution_count": 87,
     "metadata": {},
     "output_type": "execute_result"
    }
   ],
   "source": [
    "sorted_index_xgb=search_xg_best.feature_importances_.argsort()[-10:]\n",
    "sorted_index_xgb"
   ]
  },
  {
   "cell_type": "code",
   "execution_count": 90,
   "metadata": {},
   "outputs": [
    {
     "data": {
      "text/plain": [
       "<AxesSubplot:>"
      ]
     },
     "execution_count": 90,
     "metadata": {},
     "output_type": "execute_result"
    },
    {
     "data": {
      "image/png": "[encoded data removed]",
      "text/plain": [
       "<Figure size 432x288 with 1 Axes>"
      ]
     },
     "metadata": {
      "needs_background": "light"
     },
     "output_type": "display_data"
    }
   ],
   "source": [
    "sns.barplot(search_xg_best.feature_importances_[sorted_index_xgb], train.columns[sorted_index_xgb])"
   ]
  },
  {
   "cell_type": "code",
   "execution_count": 39,
   "metadata": {},
   "outputs": [
    {
     "name": "stdout",
     "output_type": "stream",
     "text": [
      "              precision    recall  f1-score   support\n",
      "\n",
      "           0       1.00      1.00      1.00         8\n",
      "           1       1.00      1.00      1.00         8\n",
      "           2       1.00      1.00      1.00         8\n",
      "           3       1.00      1.00      1.00         8\n",
      "           4       1.00      1.00      1.00         8\n",
      "           5       1.00      1.00      1.00         8\n",
      "           6       1.00      1.00      1.00         8\n",
      "           7       1.00      1.00      1.00         8\n",
      "           8       1.00      1.00      1.00         8\n",
      "           9       1.00      1.00      1.00         8\n",
      "          10       1.00      1.00      1.00         8\n",
      "          11       1.00      1.00      1.00         8\n",
      "          12       1.00      1.00      1.00         8\n",
      "          13       1.00      1.00      1.00         8\n",
      "          14       1.00      1.00      1.00         8\n",
      "          15       1.00      1.00      1.00         8\n",
      "          16       1.00      1.00      1.00         8\n",
      "          17       1.00      1.00      1.00         8\n",
      "          18       1.00      1.00      1.00         8\n",
      "          19       1.00      1.00      1.00         8\n",
      "          20       1.00      1.00      1.00         8\n",
      "          21       1.00      1.00      1.00         8\n",
      "          22       1.00      1.00      1.00         8\n",
      "          23       1.00      1.00      1.00         8\n",
      "          24       1.00      1.00      1.00         8\n",
      "          25       1.00      1.00      1.00         8\n",
      "          26       1.00      1.00      1.00         8\n",
      "          27       1.00      1.00      1.00         8\n",
      "          28       1.00      1.00      1.00         8\n",
      "          29       1.00      1.00      1.00         8\n",
      "          30       1.00      1.00      1.00         8\n",
      "          31       1.00      1.00      1.00         8\n",
      "          32       1.00      1.00      1.00         8\n",
      "          33       1.00      1.00      1.00         8\n",
      "          34       1.00      1.00      1.00         8\n",
      "          35       1.00      1.00      1.00         8\n",
      "          36       1.00      1.00      1.00         8\n",
      "          37       1.00      1.00      1.00         8\n",
      "          38       1.00      1.00      1.00         8\n",
      "          39       1.00      1.00      1.00         8\n",
      "          40       1.00      1.00      1.00         8\n",
      "          41       1.00      1.00      1.00         8\n",
      "          42       1.00      1.00      1.00         8\n",
      "          43       1.00      1.00      1.00         8\n",
      "          44       1.00      1.00      1.00         8\n",
      "          45       1.00      1.00      1.00         8\n",
      "          46       1.00      1.00      1.00         8\n",
      "          47       1.00      1.00      1.00         8\n",
      "          48       1.00      1.00      1.00         8\n",
      "          49       1.00      1.00      1.00         8\n",
      "          50       1.00      1.00      1.00         8\n",
      "          51       1.00      1.00      1.00         8\n",
      "          52       1.00      1.00      1.00         8\n",
      "          53       1.00      1.00      1.00         8\n",
      "          54       1.00      1.00      1.00         8\n",
      "          55       1.00      1.00      1.00         8\n",
      "          56       1.00      1.00      1.00         8\n",
      "          57       1.00      1.00      1.00         8\n",
      "          58       1.00      1.00      1.00         8\n",
      "          59       1.00      1.00      1.00         8\n",
      "          60       1.00      1.00      1.00         8\n",
      "          61       1.00      1.00      1.00         8\n",
      "          62       1.00      1.00      1.00         8\n",
      "          63       1.00      1.00      1.00         8\n",
      "          64       1.00      1.00      1.00         8\n",
      "          65       1.00      1.00      1.00         8\n",
      "          66       1.00      1.00      1.00         8\n",
      "          67       1.00      1.00      1.00         8\n",
      "          68       1.00      1.00      1.00         8\n",
      "          69       1.00      1.00      1.00         8\n",
      "          70       1.00      1.00      1.00         8\n",
      "          71       1.00      1.00      1.00         8\n",
      "          72       1.00      1.00      1.00         8\n",
      "          73       1.00      1.00      1.00         8\n",
      "          74       1.00      1.00      1.00         8\n",
      "          75       1.00      1.00      1.00         8\n",
      "          76       1.00      1.00      1.00         8\n",
      "          77       1.00      1.00      1.00         8\n",
      "          78       1.00      1.00      1.00         8\n",
      "          79       1.00      1.00      1.00         8\n",
      "          80       1.00      1.00      1.00         8\n",
      "          81       1.00      1.00      1.00         8\n",
      "          82       1.00      1.00      1.00         8\n",
      "          83       1.00      1.00      1.00         8\n",
      "          84       1.00      1.00      1.00         8\n",
      "          85       1.00      1.00      1.00         8\n",
      "          86       1.00      1.00      1.00         8\n",
      "          87       1.00      1.00      1.00         8\n",
      "          88       1.00      1.00      1.00         8\n",
      "          89       1.00      1.00      1.00         8\n",
      "          90       1.00      1.00      1.00         8\n",
      "          91       1.00      1.00      1.00         8\n",
      "          92       1.00      1.00      1.00         8\n",
      "          93       1.00      1.00      1.00         8\n",
      "          94       1.00      1.00      1.00         8\n",
      "          95       1.00      1.00      1.00         8\n",
      "          96       1.00      1.00      1.00         8\n",
      "          97       1.00      1.00      1.00         8\n",
      "          98       1.00      1.00      1.00         8\n",
      "\n",
      "    accuracy                           1.00       792\n",
      "   macro avg       1.00      1.00      1.00       792\n",
      "weighted avg       1.00      1.00      1.00       792\n",
      "\n"
     ]
    }
   ],
   "source": [
    "y_pred_xgb_train = search_xg_best.predict(X_train)\n",
    "print(classification_report(y_train,y_pred_xgb_train))"
   ]
  },
  {
   "cell_type": "code",
   "execution_count": 83,
   "metadata": {
    "id": "CqP6Uqta4ujH",
    "outputId": "a876f721-d05a-456a-c58d-c454a3676eca"
   },
   "outputs": [
    {
     "name": "stdout",
     "output_type": "stream",
     "text": [
      "              precision    recall  f1-score   support\n",
      "\n",
      "           0       1.00      1.00      1.00         8\n",
      "           1       1.00      1.00      1.00         8\n",
      "           2       1.00      1.00      1.00         8\n",
      "           3       1.00      1.00      1.00         8\n",
      "           4       1.00      1.00      1.00         8\n",
      "           5       1.00      1.00      1.00         8\n",
      "           6       1.00      1.00      1.00         8\n",
      "           7       1.00      1.00      1.00         8\n",
      "           8       1.00      1.00      1.00         8\n",
      "           9       1.00      1.00      1.00         8\n",
      "          10       1.00      1.00      1.00         8\n",
      "          11       1.00      1.00      1.00         8\n",
      "          12       1.00      1.00      1.00         8\n",
      "          13       1.00      1.00      1.00         8\n",
      "          14       1.00      1.00      1.00         8\n",
      "          15       1.00      1.00      1.00         8\n",
      "          16       1.00      1.00      1.00         8\n",
      "          17       1.00      1.00      1.00         8\n",
      "          18       1.00      1.00      1.00         8\n",
      "          19       1.00      1.00      1.00         8\n",
      "          20       1.00      1.00      1.00         8\n",
      "          21       1.00      1.00      1.00         8\n",
      "          22       1.00      1.00      1.00         8\n",
      "          23       1.00      1.00      1.00         8\n",
      "          24       1.00      1.00      1.00         8\n",
      "          25       1.00      1.00      1.00         8\n",
      "          26       1.00      1.00      1.00         8\n",
      "          27       1.00      1.00      1.00         8\n",
      "          28       1.00      1.00      1.00         8\n",
      "          29       1.00      1.00      1.00         8\n",
      "          30       1.00      1.00      1.00         8\n",
      "          31       1.00      1.00      1.00         8\n",
      "          32       1.00      1.00      1.00         8\n",
      "          33       1.00      1.00      1.00         8\n",
      "          34       1.00      1.00      1.00         8\n",
      "          35       1.00      1.00      1.00         8\n",
      "          36       1.00      1.00      1.00         8\n",
      "          37       1.00      1.00      1.00         8\n",
      "          38       1.00      1.00      1.00         8\n",
      "          39       1.00      1.00      1.00         8\n",
      "          40       1.00      1.00      1.00         8\n",
      "          41       1.00      1.00      1.00         8\n",
      "          42       1.00      1.00      1.00         8\n",
      "          43       1.00      1.00      1.00         8\n",
      "          44       1.00      1.00      1.00         8\n",
      "          45       1.00      1.00      1.00         8\n",
      "          46       1.00      1.00      1.00         8\n",
      "          47       1.00      1.00      1.00         8\n",
      "          48       1.00      1.00      1.00         8\n",
      "          49       1.00      1.00      1.00         8\n",
      "          50       1.00      1.00      1.00         8\n",
      "          51       1.00      1.00      1.00         8\n",
      "          52       1.00      1.00      1.00         8\n",
      "          53       1.00      1.00      1.00         8\n",
      "          54       1.00      1.00      1.00         8\n",
      "          55       1.00      1.00      1.00         8\n",
      "          56       1.00      1.00      1.00         8\n",
      "          57       1.00      1.00      1.00         8\n",
      "          58       1.00      1.00      1.00         8\n",
      "          59       1.00      1.00      1.00         8\n",
      "          60       1.00      1.00      1.00         8\n",
      "          61       1.00      1.00      1.00         8\n",
      "          62       1.00      1.00      1.00         8\n",
      "          63       1.00      1.00      1.00         8\n",
      "          64       1.00      1.00      1.00         8\n",
      "          65       1.00      1.00      1.00         8\n",
      "          66       1.00      1.00      1.00         8\n",
      "          67       1.00      1.00      1.00         8\n",
      "          68       1.00      1.00      1.00         8\n",
      "          69       1.00      1.00      1.00         8\n",
      "          70       1.00      1.00      1.00         8\n",
      "          71       1.00      1.00      1.00         8\n",
      "          72       1.00      1.00      1.00         8\n",
      "          73       1.00      1.00      1.00         8\n",
      "          74       1.00      1.00      1.00         8\n",
      "          75       1.00      1.00      1.00         8\n",
      "          76       1.00      1.00      1.00         8\n",
      "          77       1.00      1.00      1.00         8\n",
      "          78       1.00      1.00      1.00         8\n",
      "          79       1.00      1.00      1.00         8\n",
      "          80       1.00      1.00      1.00         8\n",
      "          81       1.00      1.00      1.00         8\n",
      "          82       1.00      1.00      1.00         8\n",
      "          83       1.00      1.00      1.00         8\n",
      "          84       1.00      1.00      1.00         8\n",
      "          85       1.00      1.00      1.00         8\n",
      "          86       1.00      1.00      1.00         8\n",
      "          87       1.00      1.00      1.00         8\n",
      "          88       1.00      1.00      1.00         8\n",
      "          89       1.00      1.00      1.00         8\n",
      "          90       1.00      1.00      1.00         8\n",
      "          91       1.00      1.00      1.00         8\n",
      "          92       1.00      1.00      1.00         8\n",
      "          93       1.00      1.00      1.00         8\n",
      "          94       1.00      1.00      1.00         8\n",
      "          95       1.00      1.00      1.00         8\n",
      "          96       1.00      1.00      1.00         8\n",
      "          97       1.00      1.00      1.00         8\n",
      "          98       1.00      1.00      1.00         8\n",
      "\n",
      "    accuracy                           1.00       792\n",
      "   macro avg       1.00      1.00      1.00       792\n",
      "weighted avg       1.00      1.00      1.00       792\n",
      "\n"
     ]
    }
   ],
   "source": [
    "# Gradient Boosting\n",
    "from sklearn.ensemble import RandomForestClassifier\n",
    "\n",
    "from sklearn.metrics import classification_report\n",
    "\n",
    "gbc = GradientBoostingClassifier(random_state=1)\n",
    "\n",
    "gbc.fit(X_train, y_train)\n",
    "\n",
    "pred1 = gbc.predict(X_train)\n",
    "\n",
    "print(classification_report(y_true=y_train, y_pred=pred1))"
   ]
  },
  {
   "cell_type": "code",
   "execution_count": null,
   "metadata": {},
   "outputs": [],
   "source": []
  },
  {
   "cell_type": "code",
   "execution_count": null,
   "metadata": {},
   "outputs": [],
   "source": []
  },
  {
   "cell_type": "code",
   "execution_count": 84,
   "metadata": {},
   "outputs": [
    {
     "data": {
      "text/plain": [
       "{'ccp_alpha': 0.0,\n",
       " 'criterion': 'friedman_mse',\n",
       " 'init': None,\n",
       " 'learning_rate': 0.1,\n",
       " 'loss': 'deviance',\n",
       " 'max_depth': 3,\n",
       " 'max_features': None,\n",
       " 'max_leaf_nodes': None,\n",
       " 'min_impurity_decrease': 0.0,\n",
       " 'min_impurity_split': None,\n",
       " 'min_samples_leaf': 1,\n",
       " 'min_samples_split': 2,\n",
       " 'min_weight_fraction_leaf': 0.0,\n",
       " 'n_estimators': 100,\n",
       " 'n_iter_no_change': None,\n",
       " 'presort': 'deprecated',\n",
       " 'random_state': 1,\n",
       " 'subsample': 1.0,\n",
       " 'tol': 0.0001,\n",
       " 'validation_fraction': 0.1,\n",
       " 'verbose': 0,\n",
       " 'warm_start': False}"
      ]
     },
     "execution_count": 84,
     "metadata": {},
     "output_type": "execute_result"
    }
   ],
   "source": [
    "gbc.get_params()"
   ]
  },
  {
   "cell_type": "markdown",
   "metadata": {},
   "source": [
    "# Randon Forest"
   ]
  },
  {
   "cell_type": "code",
   "execution_count": 82,
   "metadata": {},
   "outputs": [
    {
     "name": "stdout",
     "output_type": "stream",
     "text": [
      "              precision    recall  f1-score   support\n",
      "\n",
      "           0       1.00      1.00      1.00         2\n",
      "           1       1.00      1.00      1.00         2\n",
      "           2       1.00      1.00      1.00         2\n",
      "           3       1.00      1.00      1.00         2\n",
      "           4       1.00      1.00      1.00         2\n",
      "           5       1.00      1.00      1.00         2\n",
      "           6       1.00      1.00      1.00         2\n",
      "           7       1.00      1.00      1.00         2\n",
      "           8       1.00      1.00      1.00         2\n",
      "           9       1.00      1.00      1.00         2\n",
      "          10       0.67      1.00      0.80         2\n",
      "          11       1.00      1.00      1.00         2\n",
      "          12       1.00      1.00      1.00         2\n",
      "          13       1.00      1.00      1.00         2\n",
      "          14       1.00      1.00      1.00         2\n",
      "          15       1.00      1.00      1.00         2\n",
      "          16       1.00      1.00      1.00         2\n",
      "          17       1.00      1.00      1.00         2\n",
      "          18       1.00      0.50      0.67         2\n",
      "          19       1.00      1.00      1.00         2\n",
      "          20       1.00      1.00      1.00         2\n",
      "          21       1.00      1.00      1.00         2\n",
      "          22       1.00      1.00      1.00         2\n",
      "          23       1.00      1.00      1.00         2\n",
      "          24       1.00      1.00      1.00         2\n",
      "          25       1.00      1.00      1.00         2\n",
      "          26       1.00      1.00      1.00         2\n",
      "          27       1.00      1.00      1.00         2\n",
      "          28       1.00      1.00      1.00         2\n",
      "          29       1.00      1.00      1.00         2\n",
      "          30       1.00      1.00      1.00         2\n",
      "          31       0.67      1.00      0.80         2\n",
      "          32       1.00      1.00      1.00         2\n",
      "          33       1.00      1.00      1.00         2\n",
      "          34       1.00      1.00      1.00         2\n",
      "          35       1.00      1.00      1.00         2\n",
      "          36       1.00      1.00      1.00         2\n",
      "          37       1.00      1.00      1.00         2\n",
      "          38       1.00      1.00      1.00         2\n",
      "          39       1.00      1.00      1.00         2\n",
      "          40       1.00      1.00      1.00         2\n",
      "          41       1.00      1.00      1.00         2\n",
      "          42       1.00      1.00      1.00         2\n",
      "          43       1.00      1.00      1.00         2\n",
      "          44       1.00      1.00      1.00         2\n",
      "          45       1.00      1.00      1.00         2\n",
      "          46       1.00      1.00      1.00         2\n",
      "          47       1.00      1.00      1.00         2\n",
      "          48       1.00      1.00      1.00         2\n",
      "          49       1.00      0.50      0.67         2\n",
      "          50       1.00      1.00      1.00         2\n",
      "          51       0.67      1.00      0.80         2\n",
      "          52       1.00      1.00      1.00         2\n",
      "          53       1.00      1.00      1.00         2\n",
      "          54       1.00      1.00      1.00         2\n",
      "          55       1.00      1.00      1.00         2\n",
      "          56       1.00      1.00      1.00         2\n",
      "          57       1.00      1.00      1.00         2\n",
      "          58       1.00      1.00      1.00         2\n",
      "          59       1.00      1.00      1.00         2\n",
      "          60       1.00      1.00      1.00         2\n",
      "          61       0.67      1.00      0.80         2\n",
      "          62       1.00      1.00      1.00         2\n",
      "          63       1.00      1.00      1.00         2\n",
      "          64       1.00      1.00      1.00         2\n",
      "          65       1.00      1.00      1.00         2\n",
      "          66       1.00      1.00      1.00         2\n",
      "          67       1.00      1.00      1.00         2\n",
      "          68       0.67      1.00      0.80         2\n",
      "          69       1.00      0.50      0.67         2\n",
      "          70       1.00      1.00      1.00         2\n",
      "          71       1.00      1.00      1.00         2\n",
      "          72       1.00      1.00      1.00         2\n",
      "          73       0.67      1.00      0.80         2\n",
      "          74       1.00      0.50      0.67         2\n",
      "          75       1.00      1.00      1.00         2\n",
      "          76       1.00      1.00      1.00         2\n",
      "          77       1.00      1.00      1.00         2\n",
      "          78       1.00      1.00      1.00         2\n",
      "          79       1.00      1.00      1.00         2\n",
      "          80       1.00      1.00      1.00         2\n",
      "          81       1.00      1.00      1.00         2\n",
      "          82       1.00      1.00      1.00         2\n",
      "          83       1.00      1.00      1.00         2\n",
      "          84       1.00      0.50      0.67         2\n",
      "          85       1.00      1.00      1.00         2\n",
      "          86       1.00      0.50      0.67         2\n",
      "          87       1.00      1.00      1.00         2\n",
      "          88       1.00      1.00      1.00         2\n",
      "          89       1.00      1.00      1.00         2\n",
      "          90       1.00      0.50      0.67         2\n",
      "          91       0.67      1.00      0.80         2\n",
      "          92       1.00      1.00      1.00         2\n",
      "          93       1.00      1.00      1.00         2\n",
      "          94       1.00      1.00      1.00         2\n",
      "          95       1.00      1.00      1.00         2\n",
      "          96       1.00      1.00      1.00         2\n",
      "          97       1.00      1.00      1.00         2\n",
      "          98       1.00      1.00      1.00         2\n",
      "\n",
      "    accuracy                           0.96       198\n",
      "   macro avg       0.98      0.96      0.96       198\n",
      "weighted avg       0.98      0.96      0.96       198\n",
      "\n"
     ]
    }
   ],
   "source": [
    "rf = RandomForestClassifier(random_state=1)\n",
    "rf.fit(X_train, y_train)\n",
    "pred2 = rf.predict(X_valid)\n",
    "print(classification_report(y_true=y_valid, y_pred=pred2))"
   ]
  },
  {
   "cell_type": "code",
   "execution_count": 89,
   "metadata": {},
   "outputs": [
    {
     "name": "stdout",
     "output_type": "stream",
     "text": [
      "              precision    recall  f1-score   support\n",
      "\n",
      "           0       1.00      1.00      1.00         8\n",
      "           1       1.00      1.00      1.00         8\n",
      "           2       1.00      1.00      1.00         8\n",
      "           3       1.00      1.00      1.00         8\n",
      "           4       1.00      1.00      1.00         8\n",
      "           5       1.00      1.00      1.00         8\n",
      "           6       1.00      1.00      1.00         8\n",
      "           7       1.00      1.00      1.00         8\n",
      "           8       1.00      1.00      1.00         8\n",
      "           9       1.00      1.00      1.00         8\n",
      "          10       1.00      1.00      1.00         8\n",
      "          11       1.00      1.00      1.00         8\n",
      "          12       1.00      1.00      1.00         8\n",
      "          13       1.00      1.00      1.00         8\n",
      "          14       1.00      1.00      1.00         8\n",
      "          15       1.00      1.00      1.00         8\n",
      "          16       1.00      1.00      1.00         8\n",
      "          17       1.00      1.00      1.00         8\n",
      "          18       1.00      1.00      1.00         8\n",
      "          19       1.00      1.00      1.00         8\n",
      "          20       1.00      1.00      1.00         8\n",
      "          21       1.00      1.00      1.00         8\n",
      "          22       1.00      1.00      1.00         8\n",
      "          23       1.00      1.00      1.00         8\n",
      "          24       1.00      1.00      1.00         8\n",
      "          25       1.00      1.00      1.00         8\n",
      "          26       1.00      1.00      1.00         8\n",
      "          27       1.00      1.00      1.00         8\n",
      "          28       1.00      1.00      1.00         8\n",
      "          29       1.00      1.00      1.00         8\n",
      "          30       1.00      1.00      1.00         8\n",
      "          31       1.00      1.00      1.00         8\n",
      "          32       1.00      1.00      1.00         8\n",
      "          33       1.00      1.00      1.00         8\n",
      "          34       1.00      1.00      1.00         8\n",
      "          35       1.00      1.00      1.00         8\n",
      "          36       1.00      1.00      1.00         8\n",
      "          37       1.00      1.00      1.00         8\n",
      "          38       1.00      1.00      1.00         8\n",
      "          39       1.00      1.00      1.00         8\n",
      "          40       1.00      1.00      1.00         8\n",
      "          41       1.00      1.00      1.00         8\n",
      "          42       1.00      1.00      1.00         8\n",
      "          43       1.00      1.00      1.00         8\n",
      "          44       1.00      1.00      1.00         8\n",
      "          45       1.00      1.00      1.00         8\n",
      "          46       1.00      1.00      1.00         8\n",
      "          47       1.00      1.00      1.00         8\n",
      "          48       1.00      1.00      1.00         8\n",
      "          49       1.00      1.00      1.00         8\n",
      "          50       1.00      1.00      1.00         8\n",
      "          51       1.00      1.00      1.00         8\n",
      "          52       1.00      1.00      1.00         8\n",
      "          53       1.00      1.00      1.00         8\n",
      "          54       1.00      1.00      1.00         8\n",
      "          55       1.00      1.00      1.00         8\n",
      "          56       1.00      1.00      1.00         8\n",
      "          57       1.00      1.00      1.00         8\n",
      "          58       1.00      1.00      1.00         8\n",
      "          59       1.00      1.00      1.00         8\n",
      "          60       1.00      1.00      1.00         8\n",
      "          61       1.00      1.00      1.00         8\n",
      "          62       1.00      1.00      1.00         8\n",
      "          63       1.00      1.00      1.00         8\n",
      "          64       1.00      1.00      1.00         8\n",
      "          65       1.00      1.00      1.00         8\n",
      "          66       1.00      1.00      1.00         8\n",
      "          67       1.00      1.00      1.00         8\n",
      "          68       1.00      1.00      1.00         8\n",
      "          69       1.00      1.00      1.00         8\n",
      "          70       1.00      1.00      1.00         8\n",
      "          71       1.00      1.00      1.00         8\n",
      "          72       1.00      1.00      1.00         8\n",
      "          73       1.00      1.00      1.00         8\n",
      "          74       1.00      1.00      1.00         8\n",
      "          75       1.00      1.00      1.00         8\n",
      "          76       1.00      1.00      1.00         8\n",
      "          77       1.00      1.00      1.00         8\n",
      "          78       1.00      1.00      1.00         8\n",
      "          79       1.00      1.00      1.00         8\n",
      "          80       1.00      1.00      1.00         8\n",
      "          81       1.00      1.00      1.00         8\n",
      "          82       1.00      1.00      1.00         8\n",
      "          83       1.00      1.00      1.00         8\n",
      "          84       1.00      1.00      1.00         8\n",
      "          85       1.00      1.00      1.00         8\n",
      "          86       1.00      1.00      1.00         8\n",
      "          87       1.00      1.00      1.00         8\n",
      "          88       1.00      1.00      1.00         8\n",
      "          89       1.00      1.00      1.00         8\n",
      "          90       1.00      1.00      1.00         8\n",
      "          91       1.00      1.00      1.00         8\n",
      "          92       1.00      1.00      1.00         8\n",
      "          93       1.00      1.00      1.00         8\n",
      "          94       1.00      1.00      1.00         8\n",
      "          95       1.00      1.00      1.00         8\n",
      "          96       1.00      1.00      1.00         8\n",
      "          97       1.00      1.00      1.00         8\n",
      "          98       1.00      1.00      1.00         8\n",
      "\n",
      "    accuracy                           1.00       792\n",
      "   macro avg       1.00      1.00      1.00       792\n",
      "weighted avg       1.00      1.00      1.00       792\n",
      "\n"
     ]
    }
   ],
   "source": [
    "\n",
    "pred_rf_train = rf.predict(X_train)\n",
    "\n",
    "print(classification_report(y_true=y_train, y_pred=pred_rf_train))"
   ]
  },
  {
   "cell_type": "code",
   "execution_count": 101,
   "metadata": {},
   "outputs": [
    {
     "data": {
      "text/plain": [
       "array([133,  79,  49,  58,  54, 135,  80,   1, 136,  47])"
      ]
     },
     "execution_count": 101,
     "metadata": {},
     "output_type": "execute_result"
    }
   ],
   "source": [
    "sorted_index_rf=rf.feature_importances_.argsort()[-10:]\n",
    "sorted_index_rf"
   ]
  },
  {
   "cell_type": "code",
   "execution_count": 103,
   "metadata": {},
   "outputs": [
    {
     "data": {
      "text/plain": [
       "<AxesSubplot:>"
      ]
     },
     "execution_count": 103,
     "metadata": {},
     "output_type": "execute_result"
    },
    {
     "data": {
      "image/png": "[encoded data removed]",
      "text/plain": [
       "<Figure size 432x288 with 1 Axes>"
      ]
     },
     "metadata": {
      "needs_background": "light"
     },
     "output_type": "display_data"
    }
   ],
   "source": [
    "sns.barplot(rf.feature_importances_[sorted_index_rf], train.columns[sorted_index_rf])"
   ]
  },
  {
   "cell_type": "code",
   "execution_count": null,
   "metadata": {},
   "outputs": [],
   "source": [
    "import sklearn.metrics as metrics\n",
    "# calculate the fpr and tpr for all thresholds of the classification\n",
    "fpr, tpr, threshold = metrics.roc_curve(y_test, grid_probs_gb)\n",
    "roc_auc = metrics.auc(fpr, tpr)"
   ]
  },
  {
   "cell_type": "code",
   "execution_count": null,
   "metadata": {},
   "outputs": [],
   "source": []
  },
  {
   "cell_type": "markdown",
   "metadata": {},
   "source": [
    "# Adaboost with randomized search"
   ]
  },
  {
   "cell_type": "code",
   "execution_count": 94,
   "metadata": {},
   "outputs": [
    {
     "data": {
      "text/plain": [
       "RandomizedSearchCV(cv=3, estimator=AdaBoostClassifier(random_state=0),\n",
       "                   n_jobs=-1,\n",
       "                   param_distributions={'learning_rate': [0.1, 0.2,\n",
       "                                                          0.30000000000000004,\n",
       "                                                          0.4, 0.5, 0.6,\n",
       "                                                          0.7000000000000001],\n",
       "                                        'n_estimators': [100, 150, 200, 250,\n",
       "                                                         300, 350, 400, 450,\n",
       "                                                         500, 550, 600, 650,\n",
       "                                                         700, 750, 800, 850,\n",
       "                                                         900, 950, 1000]},\n",
       "                   scoring='accuracy', verbose=5)"
      ]
     },
     "execution_count": 94,
     "metadata": {},
     "output_type": "execute_result"
    }
   ],
   "source": [
    "adaboost= AdaBoostClassifier(random_state=0)\n",
    "# create a dictionary of parameters\n",
    "params = {\n",
    "    'n_estimators': list(np.arange(100, 1050, 50)),\n",
    "    'learning_rate': list(np.arange(0.1, 0.8, 0.1))\n",
    "}\n",
    "# create gridsearch object with various combinations of parameters\n",
    "random_search_ada=  RandomizedSearchCV(adaboost, params, cv=3, scoring = 'accuracy', refit = True, n_jobs=-1, verbose = 5)\n",
    "random_search_ada"
   ]
  },
  {
   "cell_type": "code",
   "execution_count": 95,
   "metadata": {},
   "outputs": [
    {
     "name": "stdout",
     "output_type": "stream",
     "text": [
      "Fitting 3 folds for each of 10 candidates, totalling 30 fits\n"
     ]
    },
    {
     "name": "stderr",
     "output_type": "stream",
     "text": [
      "[Parallel(n_jobs=-1)]: Using backend LokyBackend with 4 concurrent workers.\n",
      "[Parallel(n_jobs=-1)]: Done  10 tasks      | elapsed:  1.8min\n",
      "[Parallel(n_jobs=-1)]: Done  30 out of  30 | elapsed:  3.7min remaining:    0.0s\n",
      "[Parallel(n_jobs=-1)]: Done  30 out of  30 | elapsed:  3.7min finished\n"
     ]
    },
    {
     "data": {
      "text/plain": [
       "RandomizedSearchCV(cv=3, estimator=AdaBoostClassifier(random_state=0),\n",
       "                   n_jobs=-1,\n",
       "                   param_distributions={'learning_rate': [0.1, 0.2,\n",
       "                                                          0.30000000000000004,\n",
       "                                                          0.4, 0.5, 0.6,\n",
       "                                                          0.7000000000000001],\n",
       "                                        'n_estimators': [100, 150, 200, 250,\n",
       "                                                         300, 350, 400, 450,\n",
       "                                                         500, 550, 600, 650,\n",
       "                                                         700, 750, 800, 850,\n",
       "                                                         900, 950, 1000]},\n",
       "                   scoring='accuracy', verbose=5)"
      ]
     },
     "execution_count": 95,
     "metadata": {},
     "output_type": "execute_result"
    }
   ],
   "source": [
    "random_search_ada.fit(X_train, y_train) "
   ]
  },
  {
   "cell_type": "code",
   "execution_count": 96,
   "metadata": {},
   "outputs": [
    {
     "data": {
      "text/plain": [
       "AdaBoostClassifier(learning_rate=0.1, n_estimators=700, random_state=0)"
      ]
     },
     "execution_count": 96,
     "metadata": {},
     "output_type": "execute_result"
    }
   ],
   "source": [
    "search_ada_best= random_search_ada.best_estimator_ \n",
    "search_ada_best"
   ]
  },
  {
   "cell_type": "code",
   "execution_count": 97,
   "metadata": {},
   "outputs": [
    {
     "data": {
      "text/plain": [
       "array([21, 68, 70, 23, 92, 70,  9, 68, 67, 70, 79, 66, 68, 32, 51, 70, 22,\n",
       "       20, 79, 71, 61, 22, 79, 70, 18, 51, 68, 45, 66, 94, 66, 22,  3, 59,\n",
       "       42, 87, 55, 22, 38, 22, 55, 79, 86, 68, 94, 11, 66, 71, 20, 48, 79,\n",
       "        2, 45, 68, 59, 81, 68, 79, 98, 98, 22, 98, 68, 79, 96, 66, 82, 15,\n",
       "       68, 79, 68, 80, 31, 40, 39, 86, 96, 49, 98, 93, 26, 11, 80, 36, 86,\n",
       "       39, 95, 31, 49, 22, 55, 98, 86, 68,  1, 86,  3, 68, 20, 68, 15,  3,\n",
       "       98, 13, 22, 68, 43, 81, 79, 70, 66,  2, 79, 55, 68, 23,  4, 68,  3,\n",
       "       66, 82, 55, 76, 14, 30, 48, 75, 19, 68, 96, 21, 79, 49,  3, 68, 96,\n",
       "       55, 41, 96, 34, 95, 68, 22, 86, 79, 59, 68, 79,  6, 65, 89, 79, 55,\n",
       "       89, 55,  1, 17, 68, 66, 66, 57,  1, 74, 68, 42, 10, 54, 68,  3,  1,\n",
       "       96, 20, 66, 66, 94, 14, 87, 68,  1, 12, 67, 98, 33, 22, 55, 66, 81,\n",
       "       55, 33, 34, 34,  6, 68, 96, 76, 68, 87, 79])"
      ]
     },
     "execution_count": 97,
     "metadata": {},
     "output_type": "execute_result"
    }
   ],
   "source": [
    "y_pred_ada = search_ada_best.predict(X_valid)\n",
    "y_pred_ada"
   ]
  },
  {
   "cell_type": "code",
   "execution_count": 98,
   "metadata": {},
   "outputs": [
    {
     "data": {
      "text/plain": [
       "array([[0, 0, 0, ..., 0, 0, 0],\n",
       "       [0, 2, 0, ..., 0, 0, 0],\n",
       "       [0, 0, 2, ..., 0, 0, 0],\n",
       "       ...,\n",
       "       [0, 0, 0, ..., 1, 0, 0],\n",
       "       [0, 0, 0, ..., 0, 0, 0],\n",
       "       [0, 0, 0, ..., 0, 0, 1]])"
      ]
     },
     "execution_count": 98,
     "metadata": {},
     "output_type": "execute_result"
    }
   ],
   "source": [
    "confusion_matrix(y_true=y_valid, y_pred=y_pred_ada)"
   ]
  },
  {
   "cell_type": "code",
   "execution_count": 99,
   "metadata": {},
   "outputs": [
    {
     "name": "stdout",
     "output_type": "stream",
     "text": [
      "              precision    recall  f1-score   support\n",
      "\n",
      "           0       0.00      0.00      0.00         2\n",
      "           1       0.40      1.00      0.57         2\n",
      "           2       1.00      1.00      1.00         2\n",
      "           3       0.00      0.00      0.00         2\n",
      "           4       1.00      0.50      0.67         2\n",
      "           5       0.00      0.00      0.00         2\n",
      "           6       1.00      1.00      1.00         2\n",
      "           7       0.00      0.00      0.00         2\n",
      "           8       0.00      0.00      0.00         2\n",
      "           9       1.00      0.50      0.67         2\n",
      "          10       0.00      0.00      0.00         2\n",
      "          11       1.00      1.00      1.00         2\n",
      "          12       1.00      0.50      0.67         2\n",
      "          13       1.00      0.50      0.67         2\n",
      "          14       1.00      1.00      1.00         2\n",
      "          15       1.00      1.00      1.00         2\n",
      "          16       0.00      0.00      0.00         2\n",
      "          17       0.00      0.00      0.00         2\n",
      "          18       1.00      0.50      0.67         2\n",
      "          19       1.00      0.50      0.67         2\n",
      "          20       0.50      1.00      0.67         2\n",
      "          21       0.00      0.00      0.00         2\n",
      "          22       0.10      0.50      0.17         2\n",
      "          23       0.00      0.00      0.00         2\n",
      "          24       0.00      0.00      0.00         2\n",
      "          25       0.00      0.00      0.00         2\n",
      "          26       1.00      0.50      0.67         2\n",
      "          27       0.00      0.00      0.00         2\n",
      "          28       0.00      0.00      0.00         2\n",
      "          29       0.00      0.00      0.00         2\n",
      "          30       1.00      0.50      0.67         2\n",
      "          31       0.50      0.50      0.50         2\n",
      "          32       1.00      0.50      0.67         2\n",
      "          33       1.00      1.00      1.00         2\n",
      "          34       0.00      0.00      0.00         2\n",
      "          35       0.00      0.00      0.00         2\n",
      "          36       1.00      0.50      0.67         2\n",
      "          37       0.00      0.00      0.00         2\n",
      "          38       1.00      0.50      0.67         2\n",
      "          39       0.50      0.50      0.50         2\n",
      "          40       1.00      0.50      0.67         2\n",
      "          41       1.00      0.50      0.67         2\n",
      "          42       0.50      0.50      0.50         2\n",
      "          43       1.00      0.50      0.67         2\n",
      "          44       0.00      0.00      0.00         2\n",
      "          45       1.00      1.00      1.00         2\n",
      "          46       0.00      0.00      0.00         2\n",
      "          47       0.00      0.00      0.00         2\n",
      "          48       1.00      1.00      1.00         2\n",
      "          49       0.67      1.00      0.80         2\n",
      "          50       0.00      0.00      0.00         2\n",
      "          51       0.50      0.50      0.50         2\n",
      "          52       0.00      0.00      0.00         2\n",
      "          53       0.00      0.00      0.00         2\n",
      "          54       1.00      0.50      0.67         2\n",
      "          55       0.20      1.00      0.33         2\n",
      "          56       0.00      0.00      0.00         2\n",
      "          57       1.00      0.50      0.67         2\n",
      "          58       0.00      0.00      0.00         2\n",
      "          59       0.33      0.50      0.40         2\n",
      "          60       0.00      0.00      0.00         2\n",
      "          61       1.00      0.50      0.67         2\n",
      "          62       0.00      0.00      0.00         2\n",
      "          63       0.00      0.00      0.00         2\n",
      "          64       0.00      0.00      0.00         2\n",
      "          65       1.00      0.50      0.67         2\n",
      "          66       0.00      0.00      0.00         2\n",
      "          67       1.00      1.00      1.00         2\n",
      "          68       0.00      0.00      0.00         2\n",
      "          69       0.00      0.00      0.00         2\n",
      "          70       0.33      1.00      0.50         2\n",
      "          71       1.00      1.00      1.00         2\n",
      "          72       0.00      0.00      0.00         2\n",
      "          73       0.00      0.00      0.00         2\n",
      "          74       1.00      0.50      0.67         2\n",
      "          75       1.00      0.50      0.67         2\n",
      "          76       1.00      1.00      1.00         2\n",
      "          77       0.00      0.00      0.00         2\n",
      "          78       0.00      0.00      0.00         2\n",
      "          79       0.13      1.00      0.24         2\n",
      "          80       0.50      0.50      0.50         2\n",
      "          81       0.00      0.00      0.00         2\n",
      "          82       1.00      1.00      1.00         2\n",
      "          83       0.00      0.00      0.00         2\n",
      "          84       0.00      0.00      0.00         2\n",
      "          85       0.00      0.00      0.00         2\n",
      "          86       0.17      0.50      0.25         2\n",
      "          87       0.67      1.00      0.80         2\n",
      "          88       0.00      0.00      0.00         2\n",
      "          89       1.00      1.00      1.00         2\n",
      "          90       0.00      0.00      0.00         2\n",
      "          91       0.00      0.00      0.00         2\n",
      "          92       1.00      0.50      0.67         2\n",
      "          93       1.00      0.50      0.67         2\n",
      "          94       0.00      0.00      0.00         2\n",
      "          95       1.00      1.00      1.00         2\n",
      "          96       0.14      0.50      0.22         2\n",
      "          97       0.00      0.00      0.00         2\n",
      "          98       0.14      0.50      0.22         2\n",
      "\n",
      "    accuracy                           0.37       198\n",
      "   macro avg       0.43      0.37      0.37       198\n",
      "weighted avg       0.43      0.37      0.37       198\n",
      "\n"
     ]
    }
   ],
   "source": [
    "print(classification_report(y_valid, y_pred_ada))"
   ]
  },
  {
   "cell_type": "code",
   "execution_count": 100,
   "metadata": {},
   "outputs": [
    {
     "ename": "NotFittedError",
     "evalue": "This RandomizedSearchCV instance is not fitted yet. Call 'fit' with appropriate arguments before using this estimator.",
     "output_type": "error",
     "traceback": [
      "\u001b[0;31m---------------------------------------------------------------------------\u001b[0m",
      "\u001b[0;31mNotFittedError\u001b[0m                            Traceback (most recent call last)",
      "\u001b[0;32m<ipython-input-100-c9a8bafff444>\u001b[0m in \u001b[0;36m<module>\u001b[0;34m\u001b[0m\n\u001b[0;32m----> 1\u001b[0;31m \u001b[0mpred_ada\u001b[0m \u001b[0;34m=\u001b[0m \u001b[0mgridsearch_ada\u001b[0m\u001b[0;34m.\u001b[0m\u001b[0mpredict\u001b[0m\u001b[0;34m(\u001b[0m\u001b[0mX_valid\u001b[0m\u001b[0;34m)\u001b[0m\u001b[0;34m\u001b[0m\u001b[0;34m\u001b[0m\u001b[0m\n\u001b[0m\u001b[1;32m      2\u001b[0m \u001b[0;34m\u001b[0m\u001b[0m\n\u001b[1;32m      3\u001b[0m \u001b[0mprint\u001b[0m\u001b[0;34m(\u001b[0m\u001b[0mclassification_report\u001b[0m\u001b[0;34m(\u001b[0m\u001b[0my_true\u001b[0m\u001b[0;34m=\u001b[0m\u001b[0my_valid\u001b[0m\u001b[0;34m,\u001b[0m \u001b[0my_pred\u001b[0m\u001b[0;34m=\u001b[0m\u001b[0mpred_ada\u001b[0m\u001b[0;34m)\u001b[0m\u001b[0;34m)\u001b[0m\u001b[0;34m\u001b[0m\u001b[0;34m\u001b[0m\u001b[0m\n",
      "\u001b[0;32m/opt/anaconda3/lib/python3.8/site-packages/sklearn/utils/metaestimators.py\u001b[0m in \u001b[0;36m<lambda>\u001b[0;34m(*args, **kwargs)\u001b[0m\n\u001b[1;32m    117\u001b[0m \u001b[0;34m\u001b[0m\u001b[0m\n\u001b[1;32m    118\u001b[0m         \u001b[0;31m# lambda, but not partial, allows help() to work with update_wrapper\u001b[0m\u001b[0;34m\u001b[0m\u001b[0;34m\u001b[0m\u001b[0;34m\u001b[0m\u001b[0m\n\u001b[0;32m--> 119\u001b[0;31m         \u001b[0mout\u001b[0m \u001b[0;34m=\u001b[0m \u001b[0;32mlambda\u001b[0m \u001b[0;34m*\u001b[0m\u001b[0margs\u001b[0m\u001b[0;34m,\u001b[0m \u001b[0;34m**\u001b[0m\u001b[0mkwargs\u001b[0m\u001b[0;34m:\u001b[0m \u001b[0mself\u001b[0m\u001b[0;34m.\u001b[0m\u001b[0mfn\u001b[0m\u001b[0;34m(\u001b[0m\u001b[0mobj\u001b[0m\u001b[0;34m,\u001b[0m \u001b[0;34m*\u001b[0m\u001b[0margs\u001b[0m\u001b[0;34m,\u001b[0m \u001b[0;34m**\u001b[0m\u001b[0mkwargs\u001b[0m\u001b[0;34m)\u001b[0m\u001b[0;34m\u001b[0m\u001b[0;34m\u001b[0m\u001b[0m\n\u001b[0m\u001b[1;32m    120\u001b[0m         \u001b[0;31m# update the docstring of the returned function\u001b[0m\u001b[0;34m\u001b[0m\u001b[0;34m\u001b[0m\u001b[0;34m\u001b[0m\u001b[0m\n\u001b[1;32m    121\u001b[0m         \u001b[0mupdate_wrapper\u001b[0m\u001b[0;34m(\u001b[0m\u001b[0mout\u001b[0m\u001b[0;34m,\u001b[0m \u001b[0mself\u001b[0m\u001b[0;34m.\u001b[0m\u001b[0mfn\u001b[0m\u001b[0;34m)\u001b[0m\u001b[0;34m\u001b[0m\u001b[0;34m\u001b[0m\u001b[0m\n",
      "\u001b[0;32m/opt/anaconda3/lib/python3.8/site-packages/sklearn/model_selection/_search.py\u001b[0m in \u001b[0;36mpredict\u001b[0;34m(self, X)\u001b[0m\n\u001b[1;32m    484\u001b[0m \u001b[0;34m\u001b[0m\u001b[0m\n\u001b[1;32m    485\u001b[0m         \"\"\"\n\u001b[0;32m--> 486\u001b[0;31m         \u001b[0mself\u001b[0m\u001b[0;34m.\u001b[0m\u001b[0m_check_is_fitted\u001b[0m\u001b[0;34m(\u001b[0m\u001b[0;34m'predict'\u001b[0m\u001b[0;34m)\u001b[0m\u001b[0;34m\u001b[0m\u001b[0;34m\u001b[0m\u001b[0m\n\u001b[0m\u001b[1;32m    487\u001b[0m         \u001b[0;32mreturn\u001b[0m \u001b[0mself\u001b[0m\u001b[0;34m.\u001b[0m\u001b[0mbest_estimator_\u001b[0m\u001b[0;34m.\u001b[0m\u001b[0mpredict\u001b[0m\u001b[0;34m(\u001b[0m\u001b[0mX\u001b[0m\u001b[0;34m)\u001b[0m\u001b[0;34m\u001b[0m\u001b[0;34m\u001b[0m\u001b[0m\n\u001b[1;32m    488\u001b[0m \u001b[0;34m\u001b[0m\u001b[0m\n",
      "\u001b[0;32m/opt/anaconda3/lib/python3.8/site-packages/sklearn/model_selection/_search.py\u001b[0m in \u001b[0;36m_check_is_fitted\u001b[0;34m(self, method_name)\u001b[0m\n\u001b[1;32m    468\u001b[0m                                  % (type(self).__name__, method_name))\n\u001b[1;32m    469\u001b[0m         \u001b[0;32melse\u001b[0m\u001b[0;34m:\u001b[0m\u001b[0;34m\u001b[0m\u001b[0;34m\u001b[0m\u001b[0m\n\u001b[0;32m--> 470\u001b[0;31m             \u001b[0mcheck_is_fitted\u001b[0m\u001b[0;34m(\u001b[0m\u001b[0mself\u001b[0m\u001b[0;34m)\u001b[0m\u001b[0;34m\u001b[0m\u001b[0;34m\u001b[0m\u001b[0m\n\u001b[0m\u001b[1;32m    471\u001b[0m \u001b[0;34m\u001b[0m\u001b[0m\n\u001b[1;32m    472\u001b[0m     \u001b[0;34m@\u001b[0m\u001b[0mif_delegate_has_method\u001b[0m\u001b[0;34m(\u001b[0m\u001b[0mdelegate\u001b[0m\u001b[0;34m=\u001b[0m\u001b[0;34m(\u001b[0m\u001b[0;34m'best_estimator_'\u001b[0m\u001b[0;34m,\u001b[0m \u001b[0;34m'estimator'\u001b[0m\u001b[0;34m)\u001b[0m\u001b[0;34m)\u001b[0m\u001b[0;34m\u001b[0m\u001b[0;34m\u001b[0m\u001b[0m\n",
      "\u001b[0;32m/opt/anaconda3/lib/python3.8/site-packages/sklearn/utils/validation.py\u001b[0m in \u001b[0;36minner_f\u001b[0;34m(*args, **kwargs)\u001b[0m\n\u001b[1;32m     70\u001b[0m                           FutureWarning)\n\u001b[1;32m     71\u001b[0m         \u001b[0mkwargs\u001b[0m\u001b[0;34m.\u001b[0m\u001b[0mupdate\u001b[0m\u001b[0;34m(\u001b[0m\u001b[0;34m{\u001b[0m\u001b[0mk\u001b[0m\u001b[0;34m:\u001b[0m \u001b[0marg\u001b[0m \u001b[0;32mfor\u001b[0m \u001b[0mk\u001b[0m\u001b[0;34m,\u001b[0m \u001b[0marg\u001b[0m \u001b[0;32min\u001b[0m \u001b[0mzip\u001b[0m\u001b[0;34m(\u001b[0m\u001b[0msig\u001b[0m\u001b[0;34m.\u001b[0m\u001b[0mparameters\u001b[0m\u001b[0;34m,\u001b[0m \u001b[0margs\u001b[0m\u001b[0;34m)\u001b[0m\u001b[0;34m}\u001b[0m\u001b[0;34m)\u001b[0m\u001b[0;34m\u001b[0m\u001b[0;34m\u001b[0m\u001b[0m\n\u001b[0;32m---> 72\u001b[0;31m         \u001b[0;32mreturn\u001b[0m \u001b[0mf\u001b[0m\u001b[0;34m(\u001b[0m\u001b[0;34m**\u001b[0m\u001b[0mkwargs\u001b[0m\u001b[0;34m)\u001b[0m\u001b[0;34m\u001b[0m\u001b[0;34m\u001b[0m\u001b[0m\n\u001b[0m\u001b[1;32m     73\u001b[0m     \u001b[0;32mreturn\u001b[0m \u001b[0minner_f\u001b[0m\u001b[0;34m\u001b[0m\u001b[0;34m\u001b[0m\u001b[0m\n\u001b[1;32m     74\u001b[0m \u001b[0;34m\u001b[0m\u001b[0m\n",
      "\u001b[0;32m/opt/anaconda3/lib/python3.8/site-packages/sklearn/utils/validation.py\u001b[0m in \u001b[0;36mcheck_is_fitted\u001b[0;34m(estimator, attributes, msg, all_or_any)\u001b[0m\n\u001b[1;32m   1017\u001b[0m \u001b[0;34m\u001b[0m\u001b[0m\n\u001b[1;32m   1018\u001b[0m     \u001b[0;32mif\u001b[0m \u001b[0;32mnot\u001b[0m \u001b[0mattrs\u001b[0m\u001b[0;34m:\u001b[0m\u001b[0;34m\u001b[0m\u001b[0;34m\u001b[0m\u001b[0m\n\u001b[0;32m-> 1019\u001b[0;31m         \u001b[0;32mraise\u001b[0m \u001b[0mNotFittedError\u001b[0m\u001b[0;34m(\u001b[0m\u001b[0mmsg\u001b[0m \u001b[0;34m%\u001b[0m \u001b[0;34m{\u001b[0m\u001b[0;34m'name'\u001b[0m\u001b[0;34m:\u001b[0m \u001b[0mtype\u001b[0m\u001b[0;34m(\u001b[0m\u001b[0mestimator\u001b[0m\u001b[0;34m)\u001b[0m\u001b[0;34m.\u001b[0m\u001b[0m__name__\u001b[0m\u001b[0;34m}\u001b[0m\u001b[0;34m)\u001b[0m\u001b[0;34m\u001b[0m\u001b[0;34m\u001b[0m\u001b[0m\n\u001b[0m\u001b[1;32m   1020\u001b[0m \u001b[0;34m\u001b[0m\u001b[0m\n\u001b[1;32m   1021\u001b[0m \u001b[0;34m\u001b[0m\u001b[0m\n",
      "\u001b[0;31mNotFittedError\u001b[0m: This RandomizedSearchCV instance is not fitted yet. Call 'fit' with appropriate arguments before using this estimator."
     ]
    }
   ],
   "source": [
    "pred_ada = gridsearch_ada.predict(X_valid)\n",
    "\n",
    "print(classification_report(y_true=y_valid, y_pred=pred_ada))"
   ]
  },
  {
   "cell_type": "markdown",
   "metadata": {},
   "source": [
    "# Gradient Boosting"
   ]
  },
  {
   "cell_type": "code",
   "execution_count": 63,
   "metadata": {},
   "outputs": [
    {
     "data": {
      "text/plain": [
       "GridSearchCV(cv=3, estimator=GradientBoostingClassifier(random_state=0),\n",
       "             n_jobs=-1,\n",
       "             param_grid={'learning_rate': [0.2, 0.4], 'max_depth': [1, 2],\n",
       "                         'n_estimators': [100, 200]},\n",
       "             scoring='accuracy', verbose=5)"
      ]
     },
     "execution_count": 63,
     "metadata": {},
     "output_type": "execute_result"
    }
   ],
   "source": [
    "gradient= GradientBoostingClassifier(random_state=0)\n",
    "# create a dictionary of parameters\n",
    "params = {\n",
    "    'n_estimators': [100, 200],\n",
    "    'learning_rate':[0.2,0.4],\n",
    "    'max_depth':[1,2]\n",
    "}\n",
    "# create gridsearch object with various combinations of parameters\n",
    "gridsearch_gb= GridSearchCV(gradient, params, cv=3, scoring = 'accuracy', refit = True, n_jobs=-1, verbose = 5)\n",
    "gridsearch_gb"
   ]
  },
  {
   "cell_type": "code",
   "execution_count": 64,
   "metadata": {},
   "outputs": [
    {
     "name": "stdout",
     "output_type": "stream",
     "text": [
      "Fitting 3 folds for each of 8 candidates, totalling 24 fits\n"
     ]
    },
    {
     "name": "stderr",
     "output_type": "stream",
     "text": [
      "[Parallel(n_jobs=-1)]: Using backend LokyBackend with 4 concurrent workers.\n",
      "[Parallel(n_jobs=-1)]: Done  10 tasks      | elapsed: 15.6min\n",
      "[Parallel(n_jobs=-1)]: Done  22 out of  24 | elapsed: 84.9min remaining:  7.7min\n",
      "[Parallel(n_jobs=-1)]: Done  24 out of  24 | elapsed: 86.9min finished\n"
     ]
    },
    {
     "data": {
      "text/plain": [
       "GridSearchCV(cv=3, estimator=GradientBoostingClassifier(random_state=0),\n",
       "             n_jobs=-1,\n",
       "             param_grid={'learning_rate': [0.2, 0.4], 'max_depth': [1, 2],\n",
       "                         'n_estimators': [100, 200]},\n",
       "             scoring='accuracy', verbose=5)"
      ]
     },
     "execution_count": 64,
     "metadata": {},
     "output_type": "execute_result"
    }
   ],
   "source": [
    "gridsearch_gb.fit(X_train,y_train)"
   ]
  },
  {
   "cell_type": "code",
   "execution_count": 66,
   "metadata": {},
   "outputs": [
    {
     "name": "stdout",
     "output_type": "stream",
     "text": [
      "              precision    recall  f1-score   support\n",
      "\n",
      "           0       0.50      1.00      0.67         2\n",
      "           1       1.00      1.00      1.00         2\n",
      "           2       1.00      1.00      1.00         2\n",
      "           3       0.29      1.00      0.44         2\n",
      "           4       1.00      0.50      0.67         2\n",
      "           5       1.00      0.50      0.67         2\n",
      "           6       1.00      1.00      1.00         2\n",
      "           7       1.00      1.00      1.00         2\n",
      "           8       0.50      1.00      0.67         2\n",
      "           9       1.00      0.50      0.67         2\n",
      "          10       1.00      0.50      0.67         2\n",
      "          11       0.50      0.50      0.50         2\n",
      "          12       0.50      0.50      0.50         2\n",
      "          13       1.00      1.00      1.00         2\n",
      "          14       1.00      0.50      0.67         2\n",
      "          15       1.00      1.00      1.00         2\n",
      "          16       0.00      0.00      0.00         2\n",
      "          17       0.00      0.00      0.00         2\n",
      "          18       1.00      0.50      0.67         2\n",
      "          19       1.00      0.50      0.67         2\n",
      "          20       0.00      0.00      0.00         2\n",
      "          21       0.67      1.00      0.80         2\n",
      "          22       0.33      1.00      0.50         2\n",
      "          23       0.00      0.00      0.00         2\n",
      "          24       0.50      0.50      0.50         2\n",
      "          25       1.00      0.50      0.67         2\n",
      "          26       1.00      0.50      0.67         2\n",
      "          27       1.00      1.00      1.00         2\n",
      "          28       0.00      0.00      0.00         2\n",
      "          29       0.40      1.00      0.57         2\n",
      "          30       1.00      1.00      1.00         2\n",
      "          31       0.20      0.50      0.29         2\n",
      "          32       0.00      0.00      0.00         2\n",
      "          33       0.40      1.00      0.57         2\n",
      "          34       0.50      0.50      0.50         2\n",
      "          35       0.00      0.00      0.00         2\n",
      "          36       0.00      0.00      0.00         2\n",
      "          37       0.00      0.00      0.00         2\n",
      "          38       0.50      0.50      0.50         2\n",
      "          39       0.17      0.50      0.25         2\n",
      "          40       0.00      0.00      0.00         2\n",
      "          41       0.33      0.50      0.40         2\n",
      "          42       0.00      0.00      0.00         2\n",
      "          43       1.00      1.00      1.00         2\n",
      "          44       0.20      0.50      0.29         2\n",
      "          45       0.50      0.50      0.50         2\n",
      "          46       1.00      0.50      0.67         2\n",
      "          47       1.00      1.00      1.00         2\n",
      "          48       0.67      1.00      0.80         2\n",
      "          49       1.00      0.50      0.67         2\n",
      "          50       1.00      0.50      0.67         2\n",
      "          51       0.67      1.00      0.80         2\n",
      "          52       1.00      1.00      1.00         2\n",
      "          53       0.40      1.00      0.57         2\n",
      "          54       0.33      0.50      0.40         2\n",
      "          55       1.00      0.50      0.67         2\n",
      "          56       0.50      0.50      0.50         2\n",
      "          57       0.00      0.00      0.00         2\n",
      "          58       0.00      0.00      0.00         2\n",
      "          59       1.00      0.50      0.67         2\n",
      "          60       0.00      0.00      0.00         2\n",
      "          61       1.00      1.00      1.00         2\n",
      "          62       0.67      1.00      0.80         2\n",
      "          63       0.50      0.50      0.50         2\n",
      "          64       0.50      1.00      0.67         2\n",
      "          65       0.67      1.00      0.80         2\n",
      "          66       0.50      0.50      0.50         2\n",
      "          67       1.00      1.00      1.00         2\n",
      "          68       1.00      1.00      1.00         2\n",
      "          69       0.00      0.00      0.00         2\n",
      "          70       1.00      0.50      0.67         2\n",
      "          71       0.50      0.50      0.50         2\n",
      "          72       0.00      0.00      0.00         2\n",
      "          73       1.00      1.00      1.00         2\n",
      "          74       1.00      0.50      0.67         2\n",
      "          75       1.00      1.00      1.00         2\n",
      "          76       1.00      0.50      0.67         2\n",
      "          77       1.00      1.00      1.00         2\n",
      "          78       1.00      0.50      0.67         2\n",
      "          79       0.33      1.00      0.50         2\n",
      "          80       0.67      1.00      0.80         2\n",
      "          81       1.00      0.50      0.67         2\n",
      "          82       1.00      1.00      1.00         2\n",
      "          83       0.33      0.50      0.40         2\n",
      "          84       0.50      0.50      0.50         2\n",
      "          85       0.00      0.00      0.00         2\n",
      "          86       0.00      0.00      0.00         2\n",
      "          87       1.00      0.50      0.67         2\n",
      "          88       1.00      0.50      0.67         2\n",
      "          89       1.00      1.00      1.00         2\n",
      "          90       1.00      1.00      1.00         2\n",
      "          91       0.50      1.00      0.67         2\n",
      "          92       1.00      0.50      0.67         2\n",
      "          93       0.00      0.00      0.00         2\n",
      "          94       0.67      1.00      0.80         2\n",
      "          95       1.00      1.00      1.00         2\n",
      "          96       0.33      0.50      0.40         2\n",
      "          97       1.00      0.50      0.67         2\n",
      "          98       1.00      0.50      0.67         2\n",
      "\n",
      "    accuracy                           0.60       198\n",
      "   macro avg       0.62      0.60      0.57       198\n",
      "weighted avg       0.62      0.60      0.57       198\n",
      "\n"
     ]
    }
   ],
   "source": [
    "pred_gb = gridsearch_gb.predict(X_valid)\n",
    "\n",
    "print(classification_report(y_true=y_valid, y_pred=pred_gb))"
   ]
  },
  {
   "cell_type": "markdown",
   "metadata": {
    "id": "fWI-d07O4ujH"
   },
   "source": [
    "# image preparation"
   ]
  },
  {
   "cell_type": "code",
   "execution_count": null,
   "metadata": {
    "id": "08JEbBBG4ujI"
   },
   "outputs": [],
   "source": [
    "import shutil\n",
    "#create folder\n",
    "original_path = 'images'\n",
    "\n",
    "new_path = 'splited_images'\n",
    "\n",
    "os.mkdir(new_path) # create this folder\n",
    "\n",
    "train_dir = os.path.join(new_path,'train')\n",
    "valid_dir = os.path.join(new_path, 'validation')\n",
    "\n",
    "\n",
    "os.mkdir(train_dir)\n",
    "os.mkdir(valid_dir)\n",
    "\n",
    "def create_species_folder(path):\n",
    "    for specie in Y_label.unique():\n",
    "        specie_path = os.path.join(path, specie)\n",
    "        os.mkdir(specie_path)\n",
    "\n",
    "create_species_folder(train_dir)\n",
    "create_species_folder(valid_dir)\n",
    "\n",
    "def copy_image(idx, species, path):\n",
    "    for i in idx.index:\n",
    "        name = '{}.jpg'.format(idx.loc[i])\n",
    "        specie = species.loc[i]\n",
    "        specie_path = os.path.join(path, specie)\n",
    "        src = os.path.join(original_path, name)\n",
    "        dst = os.path.join(specie_path, name)\n",
    "        shutil.copyfile(src, dst)\n",
    "\n",
    "copy_image(train_id, train_species, train_dir)\n",
    "copy_image(valid_id, valid_species, valid_dir)\n",
    "\n"
   ]
  },
  {
   "cell_type": "code",
   "execution_count": null,
   "metadata": {
    "id": "ikrCqSv_4ujI"
   },
   "outputs": [],
   "source": [
    "datagen = keras.preprocessing.image.ImageDataGenerator(rescale = 1./255,\n",
    "                                                       horizontal_flip = True,\n",
    "                                                       vertical_flip = True)"
   ]
  },
  {
   "cell_type": "code",
   "execution_count": null,
   "metadata": {
    "id": "1NCI_ONS4ujI"
   },
   "outputs": [],
   "source": [
    "target_size = (224, 224)\n",
    "batch_size = 32\n",
    "class_mode = 'categorical'"
   ]
  },
  {
   "cell_type": "code",
   "execution_count": null,
   "metadata": {
    "id": "RlSRra6t4ujJ",
    "outputId": "889e6d1e-7eea-4a01-dce4-a049d41c298e"
   },
   "outputs": [
    {
     "name": "stdout",
     "output_type": "stream",
     "text": [
      "Found 792 images belonging to 99 classes.\n"
     ]
    }
   ],
   "source": [
    "training_set = datagen.flow_from_directory(directory= train_dir, \n",
    "                                           target_size= target_size, \n",
    "                                           batch_size= batch_size, \n",
    "                                           class_mode= class_mode)"
   ]
  },
  {
   "cell_type": "code",
   "execution_count": null,
   "metadata": {
    "id": "SipGCCx74ujK",
    "outputId": "f9370d7d-8d91-4b18-ac50-afef54f76ca5"
   },
   "outputs": [
    {
     "name": "stdout",
     "output_type": "stream",
     "text": [
      "Found 198 images belonging to 99 classes.\n"
     ]
    }
   ],
   "source": [
    "valid_set = datagen.flow_from_directory(directory= valid_dir, \n",
    "                                        target_size= target_size, \n",
    "                                        batch_size= batch_size, \n",
    "                                        class_mode= class_mode)"
   ]
  },
  {
   "cell_type": "markdown",
   "metadata": {
    "id": "Pey9ec6a4ujL"
   },
   "source": [
    "cnn example"
   ]
  },
  {
   "cell_type": "code",
   "execution_count": null,
   "metadata": {
    "id": "JSXl_cFe4ujL"
   },
   "outputs": [],
   "source": []
  }
 ],
 "metadata": {
  "colab": {
   "name": "final_project.ipynb",
   "provenance": []
  },
  "kernelspec": {
   "display_name": "Python 3",
   "language": "python",
   "name": "python3"
  },
  "language_info": {
   "codemirror_mode": {
    "name": "ipython",
    "version": 3
   },
   "file_extension": ".py",
   "mimetype": "text/x-python",
   "name": "python",
   "nbconvert_exporter": "python",
   "pygments_lexer": "ipython3",
   "version": "3.8.5"
  }
 },
 "nbformat": 4,
 "nbformat_minor": 1
}

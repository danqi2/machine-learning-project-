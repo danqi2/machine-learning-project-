{
 "cells": [
  {
   "cell_type": "code",
   "execution_count": 1,
   "metadata": {},
   "outputs": [],
   "source": [
    "import pandas as pd\n",
    "import numpy as np\n",
    "%matplotlib inline\n",
    "import matplotlib.pyplot as plt\n",
    "import tensorflow as tf\n",
    "from tensorflow import keras\n",
    "import os\n",
    "#tf.get_logger().setLevel('ERROR') # turn off tf warnings \n",
    "import tensorflow as tf\n",
    "import glob\n",
    "import warnings\n",
    "warnings.filterwarnings(\"ignore\")"
   ]
  },
  {
   "cell_type": "markdown",
   "metadata": {},
   "source": [
    "# prepare numerical data"
   ]
  },
  {
   "cell_type": "code",
   "execution_count": 2,
   "metadata": {},
   "outputs": [],
   "source": [
    "train = pd.read_csv('train.csv')"
   ]
  },
  {
   "cell_type": "code",
   "execution_count": 3,
   "metadata": {},
   "outputs": [
    {
     "data": {
      "text/html": [
       "<div>\n",
       "<style scoped>\n",
       "    .dataframe tbody tr th:only-of-type {\n",
       "        vertical-align: middle;\n",
       "    }\n",
       "\n",
       "    .dataframe tbody tr th {\n",
       "        vertical-align: top;\n",
       "    }\n",
       "\n",
       "    .dataframe thead th {\n",
       "        text-align: right;\n",
       "    }\n",
       "</style>\n",
       "<table border=\"1\" class=\"dataframe\">\n",
       "  <thead>\n",
       "    <tr style=\"text-align: right;\">\n",
       "      <th></th>\n",
       "      <th>id</th>\n",
       "      <th>species</th>\n",
       "      <th>margin1</th>\n",
       "      <th>margin2</th>\n",
       "      <th>margin3</th>\n",
       "      <th>margin4</th>\n",
       "      <th>margin5</th>\n",
       "      <th>margin6</th>\n",
       "      <th>margin7</th>\n",
       "      <th>margin8</th>\n",
       "      <th>...</th>\n",
       "      <th>texture55</th>\n",
       "      <th>texture56</th>\n",
       "      <th>texture57</th>\n",
       "      <th>texture58</th>\n",
       "      <th>texture59</th>\n",
       "      <th>texture60</th>\n",
       "      <th>texture61</th>\n",
       "      <th>texture62</th>\n",
       "      <th>texture63</th>\n",
       "      <th>texture64</th>\n",
       "    </tr>\n",
       "  </thead>\n",
       "  <tbody>\n",
       "    <tr>\n",
       "      <th>0</th>\n",
       "      <td>1</td>\n",
       "      <td>Acer_Opalus</td>\n",
       "      <td>0.007812</td>\n",
       "      <td>0.023438</td>\n",
       "      <td>0.023438</td>\n",
       "      <td>0.003906</td>\n",
       "      <td>0.011719</td>\n",
       "      <td>0.009766</td>\n",
       "      <td>0.027344</td>\n",
       "      <td>0.0</td>\n",
       "      <td>...</td>\n",
       "      <td>0.007812</td>\n",
       "      <td>0.000000</td>\n",
       "      <td>0.002930</td>\n",
       "      <td>0.002930</td>\n",
       "      <td>0.035156</td>\n",
       "      <td>0.0</td>\n",
       "      <td>0.0</td>\n",
       "      <td>0.004883</td>\n",
       "      <td>0.000000</td>\n",
       "      <td>0.025391</td>\n",
       "    </tr>\n",
       "    <tr>\n",
       "      <th>1</th>\n",
       "      <td>2</td>\n",
       "      <td>Pterocarya_Stenoptera</td>\n",
       "      <td>0.005859</td>\n",
       "      <td>0.000000</td>\n",
       "      <td>0.031250</td>\n",
       "      <td>0.015625</td>\n",
       "      <td>0.025391</td>\n",
       "      <td>0.001953</td>\n",
       "      <td>0.019531</td>\n",
       "      <td>0.0</td>\n",
       "      <td>...</td>\n",
       "      <td>0.000977</td>\n",
       "      <td>0.000000</td>\n",
       "      <td>0.000000</td>\n",
       "      <td>0.000977</td>\n",
       "      <td>0.023438</td>\n",
       "      <td>0.0</td>\n",
       "      <td>0.0</td>\n",
       "      <td>0.000977</td>\n",
       "      <td>0.039062</td>\n",
       "      <td>0.022461</td>\n",
       "    </tr>\n",
       "    <tr>\n",
       "      <th>2</th>\n",
       "      <td>3</td>\n",
       "      <td>Quercus_Hartwissiana</td>\n",
       "      <td>0.005859</td>\n",
       "      <td>0.009766</td>\n",
       "      <td>0.019531</td>\n",
       "      <td>0.007812</td>\n",
       "      <td>0.003906</td>\n",
       "      <td>0.005859</td>\n",
       "      <td>0.068359</td>\n",
       "      <td>0.0</td>\n",
       "      <td>...</td>\n",
       "      <td>0.154300</td>\n",
       "      <td>0.000000</td>\n",
       "      <td>0.005859</td>\n",
       "      <td>0.000977</td>\n",
       "      <td>0.007812</td>\n",
       "      <td>0.0</td>\n",
       "      <td>0.0</td>\n",
       "      <td>0.000000</td>\n",
       "      <td>0.020508</td>\n",
       "      <td>0.002930</td>\n",
       "    </tr>\n",
       "    <tr>\n",
       "      <th>3</th>\n",
       "      <td>5</td>\n",
       "      <td>Tilia_Tomentosa</td>\n",
       "      <td>0.000000</td>\n",
       "      <td>0.003906</td>\n",
       "      <td>0.023438</td>\n",
       "      <td>0.005859</td>\n",
       "      <td>0.021484</td>\n",
       "      <td>0.019531</td>\n",
       "      <td>0.023438</td>\n",
       "      <td>0.0</td>\n",
       "      <td>...</td>\n",
       "      <td>0.000000</td>\n",
       "      <td>0.000977</td>\n",
       "      <td>0.000000</td>\n",
       "      <td>0.000000</td>\n",
       "      <td>0.020508</td>\n",
       "      <td>0.0</td>\n",
       "      <td>0.0</td>\n",
       "      <td>0.017578</td>\n",
       "      <td>0.000000</td>\n",
       "      <td>0.047852</td>\n",
       "    </tr>\n",
       "    <tr>\n",
       "      <th>4</th>\n",
       "      <td>6</td>\n",
       "      <td>Quercus_Variabilis</td>\n",
       "      <td>0.005859</td>\n",
       "      <td>0.003906</td>\n",
       "      <td>0.048828</td>\n",
       "      <td>0.009766</td>\n",
       "      <td>0.013672</td>\n",
       "      <td>0.015625</td>\n",
       "      <td>0.005859</td>\n",
       "      <td>0.0</td>\n",
       "      <td>...</td>\n",
       "      <td>0.096680</td>\n",
       "      <td>0.000000</td>\n",
       "      <td>0.021484</td>\n",
       "      <td>0.000000</td>\n",
       "      <td>0.000000</td>\n",
       "      <td>0.0</td>\n",
       "      <td>0.0</td>\n",
       "      <td>0.000000</td>\n",
       "      <td>0.000000</td>\n",
       "      <td>0.031250</td>\n",
       "    </tr>\n",
       "  </tbody>\n",
       "</table>\n",
       "<p>5 rows × 194 columns</p>\n",
       "</div>"
      ],
      "text/plain": [
       "   id                species   margin1   margin2   margin3   margin4  \\\n",
       "0   1            Acer_Opalus  0.007812  0.023438  0.023438  0.003906   \n",
       "1   2  Pterocarya_Stenoptera  0.005859  0.000000  0.031250  0.015625   \n",
       "2   3   Quercus_Hartwissiana  0.005859  0.009766  0.019531  0.007812   \n",
       "3   5        Tilia_Tomentosa  0.000000  0.003906  0.023438  0.005859   \n",
       "4   6     Quercus_Variabilis  0.005859  0.003906  0.048828  0.009766   \n",
       "\n",
       "    margin5   margin6   margin7  margin8  ...  texture55  texture56  \\\n",
       "0  0.011719  0.009766  0.027344      0.0  ...   0.007812   0.000000   \n",
       "1  0.025391  0.001953  0.019531      0.0  ...   0.000977   0.000000   \n",
       "2  0.003906  0.005859  0.068359      0.0  ...   0.154300   0.000000   \n",
       "3  0.021484  0.019531  0.023438      0.0  ...   0.000000   0.000977   \n",
       "4  0.013672  0.015625  0.005859      0.0  ...   0.096680   0.000000   \n",
       "\n",
       "   texture57  texture58  texture59  texture60  texture61  texture62  \\\n",
       "0   0.002930   0.002930   0.035156        0.0        0.0   0.004883   \n",
       "1   0.000000   0.000977   0.023438        0.0        0.0   0.000977   \n",
       "2   0.005859   0.000977   0.007812        0.0        0.0   0.000000   \n",
       "3   0.000000   0.000000   0.020508        0.0        0.0   0.017578   \n",
       "4   0.021484   0.000000   0.000000        0.0        0.0   0.000000   \n",
       "\n",
       "   texture63  texture64  \n",
       "0   0.000000   0.025391  \n",
       "1   0.039062   0.022461  \n",
       "2   0.020508   0.002930  \n",
       "3   0.000000   0.047852  \n",
       "4   0.000000   0.031250  \n",
       "\n",
       "[5 rows x 194 columns]"
      ]
     },
     "execution_count": 3,
     "metadata": {},
     "output_type": "execute_result"
    }
   ],
   "source": [
    "train.head()"
   ]
  },
  {
   "cell_type": "markdown",
   "metadata": {},
   "source": [
    "balanced class"
   ]
  },
  {
   "cell_type": "code",
   "execution_count": 4,
   "metadata": {},
   "outputs": [
    {
     "data": {
      "image/png": "[encoded data removed]",
      "text/plain": [
       "<Figure size 432x288 with 1 Axes>"
      ]
     },
     "metadata": {
      "needs_background": "light"
     },
     "output_type": "display_data"
    }
   ],
   "source": [
    "train['species'].value_counts().plot(kind = 'barh')\n",
    "plt.show()"
   ]
  },
  {
   "cell_type": "code",
   "execution_count": 5,
   "metadata": {},
   "outputs": [],
   "source": [
    "test = pd.read_csv('test.csv')"
   ]
  },
  {
   "cell_type": "code",
   "execution_count": 6,
   "metadata": {},
   "outputs": [
    {
     "data": {
      "text/html": [
       "<div>\n",
       "<style scoped>\n",
       "    .dataframe tbody tr th:only-of-type {\n",
       "        vertical-align: middle;\n",
       "    }\n",
       "\n",
       "    .dataframe tbody tr th {\n",
       "        vertical-align: top;\n",
       "    }\n",
       "\n",
       "    .dataframe thead th {\n",
       "        text-align: right;\n",
       "    }\n",
       "</style>\n",
       "<table border=\"1\" class=\"dataframe\">\n",
       "  <thead>\n",
       "    <tr style=\"text-align: right;\">\n",
       "      <th></th>\n",
       "      <th>id</th>\n",
       "      <th>margin1</th>\n",
       "      <th>margin2</th>\n",
       "      <th>margin3</th>\n",
       "      <th>margin4</th>\n",
       "      <th>margin5</th>\n",
       "      <th>margin6</th>\n",
       "      <th>margin7</th>\n",
       "      <th>margin8</th>\n",
       "      <th>margin9</th>\n",
       "      <th>...</th>\n",
       "      <th>texture55</th>\n",
       "      <th>texture56</th>\n",
       "      <th>texture57</th>\n",
       "      <th>texture58</th>\n",
       "      <th>texture59</th>\n",
       "      <th>texture60</th>\n",
       "      <th>texture61</th>\n",
       "      <th>texture62</th>\n",
       "      <th>texture63</th>\n",
       "      <th>texture64</th>\n",
       "    </tr>\n",
       "  </thead>\n",
       "  <tbody>\n",
       "    <tr>\n",
       "      <th>0</th>\n",
       "      <td>4</td>\n",
       "      <td>0.019531</td>\n",
       "      <td>0.009766</td>\n",
       "      <td>0.078125</td>\n",
       "      <td>0.011719</td>\n",
       "      <td>0.003906</td>\n",
       "      <td>0.015625</td>\n",
       "      <td>0.005859</td>\n",
       "      <td>0.0</td>\n",
       "      <td>0.005859</td>\n",
       "      <td>...</td>\n",
       "      <td>0.006836</td>\n",
       "      <td>0.000000</td>\n",
       "      <td>0.015625</td>\n",
       "      <td>0.000977</td>\n",
       "      <td>0.015625</td>\n",
       "      <td>0.0</td>\n",
       "      <td>0.0</td>\n",
       "      <td>0.000000</td>\n",
       "      <td>0.003906</td>\n",
       "      <td>0.053711</td>\n",
       "    </tr>\n",
       "    <tr>\n",
       "      <th>1</th>\n",
       "      <td>7</td>\n",
       "      <td>0.007812</td>\n",
       "      <td>0.005859</td>\n",
       "      <td>0.064453</td>\n",
       "      <td>0.009766</td>\n",
       "      <td>0.003906</td>\n",
       "      <td>0.013672</td>\n",
       "      <td>0.007812</td>\n",
       "      <td>0.0</td>\n",
       "      <td>0.033203</td>\n",
       "      <td>...</td>\n",
       "      <td>0.000000</td>\n",
       "      <td>0.000000</td>\n",
       "      <td>0.006836</td>\n",
       "      <td>0.001953</td>\n",
       "      <td>0.013672</td>\n",
       "      <td>0.0</td>\n",
       "      <td>0.0</td>\n",
       "      <td>0.000977</td>\n",
       "      <td>0.037109</td>\n",
       "      <td>0.044922</td>\n",
       "    </tr>\n",
       "    <tr>\n",
       "      <th>2</th>\n",
       "      <td>9</td>\n",
       "      <td>0.000000</td>\n",
       "      <td>0.000000</td>\n",
       "      <td>0.001953</td>\n",
       "      <td>0.021484</td>\n",
       "      <td>0.041016</td>\n",
       "      <td>0.000000</td>\n",
       "      <td>0.023438</td>\n",
       "      <td>0.0</td>\n",
       "      <td>0.011719</td>\n",
       "      <td>...</td>\n",
       "      <td>0.128910</td>\n",
       "      <td>0.000000</td>\n",
       "      <td>0.000977</td>\n",
       "      <td>0.000000</td>\n",
       "      <td>0.000000</td>\n",
       "      <td>0.0</td>\n",
       "      <td>0.0</td>\n",
       "      <td>0.015625</td>\n",
       "      <td>0.000000</td>\n",
       "      <td>0.000000</td>\n",
       "    </tr>\n",
       "    <tr>\n",
       "      <th>3</th>\n",
       "      <td>12</td>\n",
       "      <td>0.000000</td>\n",
       "      <td>0.000000</td>\n",
       "      <td>0.009766</td>\n",
       "      <td>0.011719</td>\n",
       "      <td>0.017578</td>\n",
       "      <td>0.000000</td>\n",
       "      <td>0.003906</td>\n",
       "      <td>0.0</td>\n",
       "      <td>0.003906</td>\n",
       "      <td>...</td>\n",
       "      <td>0.012695</td>\n",
       "      <td>0.015625</td>\n",
       "      <td>0.002930</td>\n",
       "      <td>0.036133</td>\n",
       "      <td>0.013672</td>\n",
       "      <td>0.0</td>\n",
       "      <td>0.0</td>\n",
       "      <td>0.089844</td>\n",
       "      <td>0.000000</td>\n",
       "      <td>0.008789</td>\n",
       "    </tr>\n",
       "    <tr>\n",
       "      <th>4</th>\n",
       "      <td>13</td>\n",
       "      <td>0.001953</td>\n",
       "      <td>0.000000</td>\n",
       "      <td>0.015625</td>\n",
       "      <td>0.009766</td>\n",
       "      <td>0.039062</td>\n",
       "      <td>0.000000</td>\n",
       "      <td>0.009766</td>\n",
       "      <td>0.0</td>\n",
       "      <td>0.005859</td>\n",
       "      <td>...</td>\n",
       "      <td>0.000000</td>\n",
       "      <td>0.042969</td>\n",
       "      <td>0.016602</td>\n",
       "      <td>0.010742</td>\n",
       "      <td>0.041016</td>\n",
       "      <td>0.0</td>\n",
       "      <td>0.0</td>\n",
       "      <td>0.007812</td>\n",
       "      <td>0.009766</td>\n",
       "      <td>0.007812</td>\n",
       "    </tr>\n",
       "  </tbody>\n",
       "</table>\n",
       "<p>5 rows × 193 columns</p>\n",
       "</div>"
      ],
      "text/plain": [
       "   id   margin1   margin2   margin3   margin4   margin5   margin6   margin7  \\\n",
       "0   4  0.019531  0.009766  0.078125  0.011719  0.003906  0.015625  0.005859   \n",
       "1   7  0.007812  0.005859  0.064453  0.009766  0.003906  0.013672  0.007812   \n",
       "2   9  0.000000  0.000000  0.001953  0.021484  0.041016  0.000000  0.023438   \n",
       "3  12  0.000000  0.000000  0.009766  0.011719  0.017578  0.000000  0.003906   \n",
       "4  13  0.001953  0.000000  0.015625  0.009766  0.039062  0.000000  0.009766   \n",
       "\n",
       "   margin8   margin9  ...  texture55  texture56  texture57  texture58  \\\n",
       "0      0.0  0.005859  ...   0.006836   0.000000   0.015625   0.000977   \n",
       "1      0.0  0.033203  ...   0.000000   0.000000   0.006836   0.001953   \n",
       "2      0.0  0.011719  ...   0.128910   0.000000   0.000977   0.000000   \n",
       "3      0.0  0.003906  ...   0.012695   0.015625   0.002930   0.036133   \n",
       "4      0.0  0.005859  ...   0.000000   0.042969   0.016602   0.010742   \n",
       "\n",
       "   texture59  texture60  texture61  texture62  texture63  texture64  \n",
       "0   0.015625        0.0        0.0   0.000000   0.003906   0.053711  \n",
       "1   0.013672        0.0        0.0   0.000977   0.037109   0.044922  \n",
       "2   0.000000        0.0        0.0   0.015625   0.000000   0.000000  \n",
       "3   0.013672        0.0        0.0   0.089844   0.000000   0.008789  \n",
       "4   0.041016        0.0        0.0   0.007812   0.009766   0.007812  \n",
       "\n",
       "[5 rows x 193 columns]"
      ]
     },
     "execution_count": 6,
     "metadata": {},
     "output_type": "execute_result"
    }
   ],
   "source": [
    "test.head()"
   ]
  },
  {
   "cell_type": "markdown",
   "metadata": {},
   "source": [
    "get x and y from raw data"
   ]
  },
  {
   "cell_type": "code",
   "execution_count": 7,
   "metadata": {},
   "outputs": [],
   "source": [
    "Y_train_id = train.pop('id')\n",
    "\n",
    "Y_train = train.pop('species')\n",
    "\n",
    "test_id = test.pop('id')\n",
    "\n",
    "X_train = train\n",
    "\n",
    "X_test = test"
   ]
  },
  {
   "cell_type": "markdown",
   "metadata": {},
   "source": [
    "normalize data"
   ]
  },
  {
   "cell_type": "code",
   "execution_count": 8,
   "metadata": {},
   "outputs": [],
   "source": [
    "from sklearn.preprocessing import StandardScaler\n",
    "\n",
    "scaler = StandardScaler()\n",
    "\n",
    "X_trainS = scaler.fit_transform(X_train)\n",
    "\n",
    "X_testS = scaler.transform(X_test)"
   ]
  },
  {
   "cell_type": "markdown",
   "metadata": {},
   "source": [
    "split training set to training and validation"
   ]
  },
  {
   "cell_type": "code",
   "execution_count": 9,
   "metadata": {},
   "outputs": [],
   "source": [
    "from sklearn.model_selection import train_test_split\n",
    "\n",
    "from sklearn.preprocessing import LabelEncoder\n",
    "\n",
    "encoder = LabelEncoder()\n",
    "\n",
    "y_train_label = pd.Series(encoder.fit_transform(Y_train))\n",
    "\n",
    "x_train, x_valid, y_train, y_valid =  train_test_split(X_trainS, y_train_label, test_size = 0.20, random_state = 233)"
   ]
  },
  {
   "cell_type": "code",
   "execution_count": 10,
   "metadata": {},
   "outputs": [],
   "source": [
    "train_id = Y_train_id.loc[y_train.index]\n",
    "train_species = Y_train.loc[y_train.index]\n",
    "\n",
    "valid_id = Y_train_id.loc[y_valid.index]\n",
    "valid_species = Y_train.loc[y_valid.index] "
   ]
  },
  {
   "cell_type": "markdown",
   "metadata": {},
   "source": [
    "ml example"
   ]
  },
  {
   "cell_type": "code",
   "execution_count": 11,
   "metadata": {},
   "outputs": [
    {
     "name": "stdout",
     "output_type": "stream",
     "text": [
      "              precision    recall  f1-score   support\n",
      "\n",
      "           0       1.00      1.00      1.00         1\n",
      "           1       1.00      1.00      1.00         1\n",
      "           2       1.00      1.00      1.00         2\n",
      "           3       1.00      1.00      1.00         1\n",
      "           4       1.00      1.00      1.00         2\n",
      "           5       1.00      1.00      1.00         1\n",
      "           6       1.00      1.00      1.00         1\n",
      "           7       0.50      1.00      0.67         1\n",
      "           8       1.00      1.00      1.00         3\n",
      "          10       0.50      1.00      0.67         1\n",
      "          11       1.00      1.00      1.00         1\n",
      "          12       1.00      1.00      1.00         3\n",
      "          13       1.00      1.00      1.00         1\n",
      "          14       1.00      1.00      1.00         1\n",
      "          15       1.00      1.00      1.00         1\n",
      "          16       1.00      1.00      1.00         1\n",
      "          17       1.00      1.00      1.00         3\n",
      "          18       1.00      0.67      0.80         3\n",
      "          19       1.00      1.00      1.00         1\n",
      "          20       1.00      1.00      1.00         1\n",
      "          21       1.00      1.00      1.00         1\n",
      "          22       1.00      1.00      1.00         4\n",
      "          23       1.00      1.00      1.00         3\n",
      "          24       1.00      1.00      1.00         2\n",
      "          25       1.00      1.00      1.00         3\n",
      "          26       1.00      0.75      0.86         4\n",
      "          27       0.50      1.00      0.67         1\n",
      "          28       1.00      1.00      1.00         3\n",
      "          29       1.00      1.00      1.00         2\n",
      "          30       1.00      1.00      1.00         2\n",
      "          31       1.00      1.00      1.00         2\n",
      "          32       1.00      1.00      1.00         1\n",
      "          34       1.00      1.00      1.00         2\n",
      "          35       1.00      1.00      1.00         4\n",
      "          38       1.00      1.00      1.00         2\n",
      "          39       1.00      1.00      1.00         2\n",
      "          40       1.00      1.00      1.00         2\n",
      "          41       0.67      1.00      0.80         2\n",
      "          42       1.00      1.00      1.00         1\n",
      "          43       1.00      1.00      1.00         2\n",
      "          44       1.00      0.67      0.80         3\n",
      "          45       1.00      1.00      1.00         1\n",
      "          46       1.00      1.00      1.00         2\n",
      "          48       1.00      1.00      1.00         3\n",
      "          49       1.00      0.67      0.80         3\n",
      "          50       1.00      1.00      1.00         4\n",
      "          51       1.00      1.00      1.00         3\n",
      "          52       1.00      1.00      1.00         3\n",
      "          53       1.00      1.00      1.00         4\n",
      "          54       1.00      1.00      1.00         4\n",
      "          55       1.00      1.00      1.00         2\n",
      "          56       1.00      1.00      1.00         2\n",
      "          57       1.00      1.00      1.00         1\n",
      "          58       1.00      1.00      1.00         2\n",
      "          59       0.67      1.00      0.80         2\n",
      "          60       1.00      1.00      1.00         3\n",
      "          61       1.00      1.00      1.00         3\n",
      "          62       1.00      1.00      1.00         2\n",
      "          63       1.00      1.00      1.00         2\n",
      "          64       0.00      0.00      0.00         1\n",
      "          65       1.00      1.00      1.00         3\n",
      "          66       0.75      1.00      0.86         3\n",
      "          67       1.00      1.00      1.00         3\n",
      "          68       0.00      0.00      0.00         1\n",
      "          69       0.67      1.00      0.80         2\n",
      "          70       1.00      1.00      1.00         1\n",
      "          71       1.00      0.33      0.50         3\n",
      "          72       1.00      1.00      1.00         2\n",
      "          73       1.00      1.00      1.00         1\n",
      "          75       1.00      1.00      1.00         2\n",
      "          76       1.00      1.00      1.00         4\n",
      "          77       1.00      1.00      1.00         4\n",
      "          78       1.00      1.00      1.00         3\n",
      "          79       1.00      1.00      1.00         2\n",
      "          80       0.67      1.00      0.80         2\n",
      "          81       1.00      1.00      1.00         1\n",
      "          82       1.00      1.00      1.00         4\n",
      "          83       1.00      1.00      1.00         2\n",
      "          86       1.00      0.75      0.86         4\n",
      "          87       1.00      1.00      1.00         1\n",
      "          88       1.00      1.00      1.00         2\n",
      "          89       1.00      1.00      1.00         1\n",
      "          91       0.67      1.00      0.80         2\n",
      "          92       0.50      0.50      0.50         2\n",
      "          93       1.00      1.00      1.00         4\n",
      "          94       1.00      1.00      1.00         5\n",
      "          95       1.00      1.00      1.00         3\n",
      "          96       1.00      1.00      1.00         3\n",
      "          97       1.00      1.00      1.00         2\n",
      "          98       1.00      1.00      1.00         1\n",
      "\n",
      "    accuracy                           0.95       198\n",
      "   macro avg       0.93      0.95      0.93       198\n",
      "weighted avg       0.96      0.95      0.95       198\n",
      "\n"
     ]
    }
   ],
   "source": [
    "from sklearn.ensemble import RandomForestClassifier\n",
    "\n",
    "from sklearn.metrics import classification_report\n",
    "\n",
    "clf1 = RandomForestClassifier(random_state=233, n_jobs=-1)\n",
    "\n",
    "clf1.fit(x_train, y_train)\n",
    "\n",
    "pred1 = clf1.predict(x_valid)\n",
    "\n",
    "print(classification_report(y_true=y_valid, y_pred=pred1))"
   ]
  },
  {
   "cell_type": "markdown",
   "metadata": {},
   "source": [
    "# image preparation"
   ]
  },
  {
   "cell_type": "code",
   "execution_count": 13,
   "metadata": {},
   "outputs": [],
   "source": [
    "import shutil\n",
    "#create folder\n",
    "original_path = 'images'\n",
    "\n",
    "new_path = 'splited_images'\n",
    "\n",
    "os.mkdir(new_path) # create this folder\n",
    "\n",
    "train_dir = os.path.join(new_path,'train')\n",
    "valid_dir = os.path.join(new_path, 'validation')\n",
    "\n",
    "\n",
    "os.mkdir(train_dir)\n",
    "os.mkdir(valid_dir)\n",
    "\n",
    "def create_species_folder(path):\n",
    "    for specie in Y_train.unique():\n",
    "        specie_path = os.path.join(path, specie)\n",
    "        os.mkdir(specie_path)\n",
    "\n",
    "create_species_folder(train_dir)\n",
    "create_species_folder(valid_dir)\n",
    "\n",
    "def copy_image(idx, species, path):\n",
    "    for i in idx.index:\n",
    "        name = '{}.jpg'.format(idx.loc[i])\n",
    "        specie = species.loc[i]\n",
    "        specie_path = os.path.join(path, specie)\n",
    "        src = os.path.join(original_path, name)\n",
    "        dst = os.path.join(specie_path, name)\n",
    "        shutil.copyfile(src, dst)\n",
    "\n",
    "copy_image(train_id, train_species, train_dir)\n",
    "copy_image(valid_id, valid_species, valid_dir)\n",
    "\n"
   ]
  },
  {
   "cell_type": "code",
   "execution_count": 14,
   "metadata": {},
   "outputs": [],
   "source": [
    "datagen = keras.preprocessing.image.ImageDataGenerator(rescale = 1./255,\n",
    "                                                       shear_range = 0.5,\n",
    "                                                       vertical_flip= True,\n",
    "                                                       horizontal_flip = True)"
   ]
  },
  {
   "cell_type": "code",
   "execution_count": 15,
   "metadata": {},
   "outputs": [],
   "source": [
    "target_size = (96, 96)\n",
    "batch_size = 32\n",
    "class_mode = 'categorical'"
   ]
  },
  {
   "cell_type": "code",
   "execution_count": 16,
   "metadata": {},
   "outputs": [
    {
     "name": "stdout",
     "output_type": "stream",
     "text": [
      "Found 792 images belonging to 99 classes.\n"
     ]
    }
   ],
   "source": [
    "training_set = datagen.flow_from_directory(directory= train_dir, \n",
    "                                           target_size= target_size, \n",
    "                                           batch_size= batch_size, \n",
    "                                           class_mode= class_mode)"
   ]
  },
  {
   "cell_type": "code",
   "execution_count": 17,
   "metadata": {},
   "outputs": [
    {
     "name": "stdout",
     "output_type": "stream",
     "text": [
      "Found 198 images belonging to 99 classes.\n"
     ]
    }
   ],
   "source": [
    "valid_set = datagen.flow_from_directory(directory= valid_dir, \n",
    "                                        target_size= target_size, \n",
    "                                        batch_size= batch_size, \n",
    "                                        class_mode= class_mode)"
   ]
  },
  {
   "cell_type": "markdown",
   "metadata": {},
   "source": [
    "cnn example"
   ]
  },
  {
   "cell_type": "code",
   "execution_count": 18,
   "metadata": {},
   "outputs": [],
   "source": [
    "#create a model\n",
    "#kernal越小越好，activation最好是relu，，poolsize也是越小越好,stride减少可以增加train的accuracy，但是val_acc依然不好\n",
    "def classifier():\n",
    "    model = keras.Sequential([\n",
    "        keras.layers.Conv2D(filters = 32, kernel_size = (2,2), input_shape = (96,96,3), activation = \"relu\" ,padding = 'Same', strides=(1,1)),\n",
    "        keras.layers.MaxPooling2D(pool_size = (1,1), strides=(1,1)),\n",
    "        \n",
    "        keras.layers.Conv2D(filters = 64, kernel_size = (2,2), activation = 'relu',padding = 'Same', strides=(1,1)),\n",
    "        keras.layers.MaxPooling2D(pool_size = (1,1), strides=(1,1)),\n",
    "        \n",
    "        keras.layers.Conv2D(filters = 128, kernel_size = (2,2), activation = 'relu',padding = 'Same', strides=(1,1)),\n",
    "        keras.layers.MaxPooling2D(pool_size = (1,1), strides=(1,1)),\n",
    "\n",
    "        #3层效果较好        \n",
    "        keras.layers.Conv2D(filters = 256, kernel_size = (2,2), activation = 'relu',padding = 'Same'),\n",
    "        keras.layers.MaxPooling2D(pool_size = (1,1), strides=(1,1)),\n",
    "       \n",
    "        \n",
    "        \n",
    "        keras.layers.Flatten(),\n",
    "        keras.layers.Dense(units = 256, activation = 'relu'),\n",
    "        #keras.layers.Dropout(0.5),\n",
    "        #keras.layers.Dense(units = 128, activation = 'sigmoid'),\n",
    "        keras.layers.Dense(units = 99, activation = 'softmax')\n",
    "    ])\n",
    "    return model"
   ]
  },
  {
   "cell_type": "code",
   "execution_count": 19,
   "metadata": {
    "scrolled": true
   },
   "outputs": [],
   "source": [
    "clf2 = classifier()"
   ]
  },
  {
   "cell_type": "code",
   "execution_count": null,
   "metadata": {},
   "outputs": [],
   "source": [
    "clf2.summary"
   ]
  },
  {
   "cell_type": "code",
   "execution_count": 20,
   "metadata": {},
   "outputs": [],
   "source": [
    "clf2.compile(optimizer = 'adam', loss = 'categorical_crossentropy', metrics = 'accuracy') "
   ]
  },
  {
   "cell_type": "code",
   "execution_count": 21,
   "metadata": {
    "scrolled": false
   },
   "outputs": [
    {
     "name": "stdout",
     "output_type": "stream",
     "text": [
      "Epoch 1/10\n",
      "25/25 [==============================] - 65s 3s/step - loss: 11.3649 - accuracy: 0.0101 - val_loss: 4.5951 - val_accuracy: 0.0202\n",
      "Epoch 2/10\n",
      "25/25 [==============================] - 65s 3s/step - loss: 4.5420 - accuracy: 0.0657 - val_loss: 4.3128 - val_accuracy: 0.0909\n",
      "Epoch 3/10\n",
      "25/25 [==============================] - 65s 3s/step - loss: 3.3053 - accuracy: 0.2816 - val_loss: 2.9024 - val_accuracy: 0.3182\n",
      "Epoch 4/10\n",
      "25/25 [==============================] - 65s 3s/step - loss: 1.5323 - accuracy: 0.6174 - val_loss: 2.5197 - val_accuracy: 0.3485\n",
      "Epoch 5/10\n",
      "25/25 [==============================] - 65s 3s/step - loss: 0.7788 - accuracy: 0.8068 - val_loss: 2.2387 - val_accuracy: 0.4293\n",
      "Epoch 6/10\n",
      "25/25 [==============================] - 64s 3s/step - loss: 0.3887 - accuracy: 0.9003 - val_loss: 2.3476 - val_accuracy: 0.4394\n",
      "Epoch 7/10\n",
      "25/25 [==============================] - 65s 3s/step - loss: 0.2461 - accuracy: 0.9394 - val_loss: 2.3269 - val_accuracy: 0.4141\n",
      "Epoch 8/10\n",
      "25/25 [==============================] - 65s 3s/step - loss: 0.1053 - accuracy: 0.9785 - val_loss: 2.5770 - val_accuracy: 0.4596\n",
      "Epoch 9/10\n",
      "25/25 [==============================] - 65s 3s/step - loss: 0.0775 - accuracy: 0.9773 - val_loss: 2.8081 - val_accuracy: 0.4242\n",
      "Epoch 10/10\n",
      "25/25 [==============================] - 64s 3s/step - loss: 0.0730 - accuracy: 0.9848 - val_loss: 2.9565 - val_accuracy: 0.4040\n"
     ]
    }
   ],
   "source": [
    "history = clf2.fit(training_set, validation_data=valid_set, epochs=10, batch_size=batch_size)"
   ]
  },
  {
   "cell_type": "code",
   "execution_count": 18,
   "metadata": {},
   "outputs": [],
   "source": [
    "def classifier():\n",
    "    model = keras.Sequential([\n",
    "        keras.layers.Conv2D(filters = 32, kernel_size = (2,2), input_shape = (96,96,3), activation = \"relu\" ,padding = 'Same',strides=(1,1)),\n",
    "        keras.layers.MaxPooling2D(pool_size = (1,1), strides=(1,1)),\n",
    "        \n",
    "        keras.layers.Conv2D(filters = 64, kernel_size = (2,2), activation = 'relu',padding = 'Same',strides=(1,1)),\n",
    "        keras.layers.MaxPooling2D(pool_size = (1,1), strides=(1,1)),\n",
    "        \n",
    "        keras.layers.Conv2D(filters = 128, kernel_size = (2,2), activation = 'relu',padding = 'Same',strides=(1,1)),\n",
    "        keras.layers.MaxPooling2D(pool_size = (1,1), strides=(1,1)),\n",
    "        \n",
    "        keras.layers.Conv2D(filters = 256, kernel_size = (2,2), activation = 'relu',padding = 'Same',strides=(1,1)),\n",
    "        keras.layers.MaxPooling2D(pool_size = (1,1), strides=(1,1)),\n",
    "        \n",
    "        keras.layers.Flatten(),\n",
    "        keras.layers.Dense(units = 256, activation = 'relu'),\n",
    "        keras.layers.Dense(units = 99, activation = 'softmax')\n",
    "    ])\n",
    "    return model"
   ]
  },
  {
   "cell_type": "code",
   "execution_count": 19,
   "metadata": {},
   "outputs": [],
   "source": [
    "clf2 = classifier()"
   ]
  },
  {
   "cell_type": "code",
   "execution_count": 20,
   "metadata": {},
   "outputs": [],
   "source": [
    "clf2.compile(optimizer = 'RMSprop', loss = 'categorical_crossentropy', metrics = 'accuracy')"
   ]
  },
  {
   "cell_type": "code",
   "execution_count": 21,
   "metadata": {},
   "outputs": [
    {
     "name": "stdout",
     "output_type": "stream",
     "text": [
      "Epoch 1/10\n",
      "25/25 [==============================] - 90s 4s/step - loss: 22.3222 - accuracy: 0.0215 - val_loss: 4.7083 - val_accuracy: 0.0202\n",
      "Epoch 2/10\n",
      "25/25 [==============================] - 92s 4s/step - loss: 4.0083 - accuracy: 0.1641 - val_loss: 3.3417 - val_accuracy: 0.1869\n",
      "Epoch 3/10\n",
      "25/25 [==============================] - 95s 4s/step - loss: 2.1911 - accuracy: 0.4747 - val_loss: 2.7288 - val_accuracy: 0.3232\n",
      "Epoch 4/10\n",
      "25/25 [==============================] - 96s 4s/step - loss: 1.4575 - accuracy: 0.6465 - val_loss: 2.2109 - val_accuracy: 0.3384\n",
      "Epoch 5/10\n",
      "25/25 [==============================] - 96s 4s/step - loss: 0.9794 - accuracy: 0.7462 - val_loss: 2.2628 - val_accuracy: 0.4192\n",
      "Epoch 6/10\n",
      "25/25 [==============================] - 97s 4s/step - loss: 0.8839 - accuracy: 0.7854 - val_loss: 1.8880 - val_accuracy: 0.4697\n",
      "Epoch 7/10\n",
      "25/25 [==============================] - 95s 4s/step - loss: 0.5077 - accuracy: 0.8775 - val_loss: 2.1393 - val_accuracy: 0.4242\n",
      "Epoch 8/10\n",
      "25/25 [==============================] - 94s 4s/step - loss: 0.4373 - accuracy: 0.8889 - val_loss: 1.8866 - val_accuracy: 0.4949\n",
      "Epoch 9/10\n",
      "25/25 [==============================] - 95s 4s/step - loss: 0.4070 - accuracy: 0.8902 - val_loss: 2.0607 - val_accuracy: 0.4293\n",
      "Epoch 10/10\n",
      "25/25 [==============================] - 97s 4s/step - loss: 0.2330 - accuracy: 0.9318 - val_loss: 2.6156 - val_accuracy: 0.4192\n"
     ]
    }
   ],
   "source": [
    "history = clf2.fit(training_set, validation_data=valid_set, epochs=10, batch_size=batch_size)"
   ]
  },
  {
   "cell_type": "code",
   "execution_count": 26,
   "metadata": {},
   "outputs": [],
   "source": [
    "def classifier():\n",
    "    model = keras.Sequential([\n",
    "        keras.layers.Conv2D(filters = 32, kernel_size = (2,2), input_shape = (96,96,3), activation = \"relu\" ,padding = 'Same'),\n",
    "        keras.layers.MaxPooling2D(pool_size = (1,1), strides=(1,1)),\n",
    "        \n",
    "        keras.layers.Conv2D(filters = 64, kernel_size = (2,2), activation = 'relu',padding = 'Same'),\n",
    "        keras.layers.MaxPooling2D(pool_size = (1,1), strides=(1,1)),\n",
    "        \n",
    "        keras.layers.Conv2D(filters = 128, kernel_size = (2,2), activation = 'relu',padding = 'Same'),\n",
    "        keras.layers.MaxPooling2D(pool_size = (1,1), strides=(2,2)),\n",
    "        \n",
    "        keras.layers.Conv2D(filters = 256, kernel_size = (2,2), activation = 'relu',padding = 'Same'),\n",
    "        keras.layers.MaxPooling2D(pool_size = (1,1), strides=(1,1)),\n",
    "        \n",
    "        keras.layers.Flatten(),\n",
    "        keras.layers.Dense(units = 256, activation = 'relu'),\n",
    "        keras.layers.Dense(units = 99, activation = 'softmax')\n",
    "    ])\n",
    "    return model"
   ]
  },
  {
   "cell_type": "code",
   "execution_count": 27,
   "metadata": {},
   "outputs": [],
   "source": [
    "clf2 = classifier()"
   ]
  },
  {
   "cell_type": "code",
   "execution_count": 28,
   "metadata": {},
   "outputs": [],
   "source": [
    "clf2.compile(optimizer = 'sgd', loss = 'categorical_crossentropy', metrics = 'accuracy')"
   ]
  },
  {
   "cell_type": "code",
   "execution_count": 29,
   "metadata": {},
   "outputs": [
    {
     "name": "stdout",
     "output_type": "stream",
     "text": [
      "Epoch 1/10\n",
      "25/25 [==============================] - 20s 802ms/step - loss: 4.6070 - accuracy: 0.0038 - val_loss: 4.6016 - val_accuracy: 0.0000e+00\n",
      "Epoch 2/10\n",
      "25/25 [==============================] - 19s 774ms/step - loss: 4.5812 - accuracy: 0.0177 - val_loss: 4.5910 - val_accuracy: 0.0152\n",
      "Epoch 3/10\n",
      "25/25 [==============================] - 20s 781ms/step - loss: 4.5620 - accuracy: 0.0290 - val_loss: 4.5792 - val_accuracy: 0.0152\n",
      "Epoch 4/10\n",
      "25/25 [==============================] - 20s 780ms/step - loss: 4.5210 - accuracy: 0.0442 - val_loss: 4.5762 - val_accuracy: 0.0303\n",
      "Epoch 5/10\n",
      "25/25 [==============================] - 19s 777ms/step - loss: 4.4629 - accuracy: 0.0467 - val_loss: 4.5602 - val_accuracy: 0.0202\n",
      "Epoch 6/10\n",
      "25/25 [==============================] - 20s 790ms/step - loss: 4.3893 - accuracy: 0.0606 - val_loss: 4.5195 - val_accuracy: 0.0404\n",
      "Epoch 7/10\n",
      "25/25 [==============================] - 20s 788ms/step - loss: 4.2646 - accuracy: 0.0859 - val_loss: 4.3644 - val_accuracy: 0.0505\n",
      "Epoch 8/10\n",
      "25/25 [==============================] - 20s 782ms/step - loss: 4.1238 - accuracy: 0.0985 - val_loss: 4.1942 - val_accuracy: 0.0707\n",
      "Epoch 9/10\n",
      "25/25 [==============================] - 19s 778ms/step - loss: 3.9822 - accuracy: 0.1225 - val_loss: 4.0418 - val_accuracy: 0.0960\n",
      "Epoch 10/10\n",
      "25/25 [==============================] - 20s 782ms/step - loss: 3.7692 - accuracy: 0.1591 - val_loss: 3.8524 - val_accuracy: 0.1465\n"
     ]
    }
   ],
   "source": [
    "history = clf2.fit(training_set, validation_data=valid_set, epochs=10, batch_size=batch_size)"
   ]
  },
  {
   "cell_type": "code",
   "execution_count": 22,
   "metadata": {},
   "outputs": [
    {
     "name": "stdout",
     "output_type": "stream",
     "text": [
      "accuracy is  0.4343\n"
     ]
    }
   ],
   "source": [
    "print('accuracy is ', round(clf2.evaluate(valid_set, verbose =0)[1], 4))"
   ]
  },
  {
   "cell_type": "code",
   "execution_count": 30,
   "metadata": {},
   "outputs": [
    {
     "name": "stdout",
     "output_type": "stream",
     "text": [
      "Requirement already satisfied: pydot in c:\\users\\hao\\anaconda3\\lib\\site-packages (1.4.2)\n",
      "Requirement already satisfied: pyparsing>=2.1.4 in c:\\users\\hao\\anaconda3\\lib\\site-packages (from pydot) (2.4.7)\n"
     ]
    }
   ],
   "source": [
    "! pip install pydot"
   ]
  },
  {
   "cell_type": "code",
   "execution_count": 31,
   "metadata": {},
   "outputs": [
    {
     "name": "stdout",
     "output_type": "stream",
     "text": [
      "Requirement already satisfied: graphviz in c:\\users\\hao\\anaconda3\\lib\\site-packages (0.16)\n"
     ]
    }
   ],
   "source": [
    "! pip install graphviz"
   ]
  },
  {
   "cell_type": "code",
   "execution_count": 29,
   "metadata": {},
   "outputs": [
    {
     "name": "stderr",
     "output_type": "stream",
     "text": [
      "'sudo' 不是内部或外部命令，也不是可运行的程序\n",
      "或批处理文件。\n"
     ]
    }
   ],
   "source": []
  },
  {
   "cell_type": "code",
   "execution_count": 32,
   "metadata": {},
   "outputs": [
    {
     "data": {
      "image/png": "[encoded data removed]",
      "text/plain": [
       "<IPython.core.display.Image object>"
      ]
     },
     "execution_count": 32,
     "metadata": {},
     "output_type": "execute_result"
    }
   ],
   "source": [
    "from tensorflow.keras.utils import plot_model\n",
    "\n",
    "plot_model(clf2,show_shapes= True, show_layer_names= True)"
   ]
  },
  {
   "cell_type": "code",
   "execution_count": null,
   "metadata": {},
   "outputs": [],
   "source": [
    "###clf2.save(\"model_fitted.h5\")"
   ]
  },
  {
   "cell_type": "code",
   "execution_count": 72,
   "metadata": {},
   "outputs": [
    {
     "name": "stdout",
     "output_type": "stream",
     "text": [
      "1/1 [==============================] - 0s 997us/step - loss: 4.5984 - accuracy: 0.0000e+00\n",
      "WARNING:tensorflow:From C:\\Users\\hao\\anaconda3\\lib\\site-packages\\tensorflow\\python\\training\\tracking\\tracking.py:111: Model.state_updates (from tensorflow.python.keras.engine.training) is deprecated and will be removed in a future version.\n",
      "Instructions for updating:\n",
      "This property should not be used in TensorFlow 2.0, as updates are applied automatically.\n",
      "WARNING:tensorflow:From C:\\Users\\hao\\anaconda3\\lib\\site-packages\\tensorflow\\python\\training\\tracking\\tracking.py:111: Layer.updates (from tensorflow.python.keras.engine.base_layer) is deprecated and will be removed in a future version.\n",
      "Instructions for updating:\n",
      "This property should not be used in TensorFlow 2.0, as updates are applied automatically.\n",
      "INFO:tensorflow:Assets written to: model_1_1\\assets\n"
     ]
    },
    {
     "ename": "NameError",
     "evalue": "name 'load_model' is not defined",
     "output_type": "error",
     "traceback": [
      "\u001b[1;31m---------------------------------------------------------------------------\u001b[0m",
      "\u001b[1;31mNameError\u001b[0m                                 Traceback (most recent call last)",
      "\u001b[1;32m<ipython-input-72-7ffd38940ac7>\u001b[0m in \u001b[0;36m<module>\u001b[1;34m\u001b[0m\n\u001b[0;32m     11\u001b[0m     \u001b[0mmodel_i\u001b[0m\u001b[1;33m.\u001b[0m\u001b[0msave\u001b[0m\u001b[1;33m(\u001b[0m\u001b[0mmodel_name\u001b[0m\u001b[1;33m)\u001b[0m\u001b[1;33m\u001b[0m\u001b[1;33m\u001b[0m\u001b[0m\n\u001b[0;32m     12\u001b[0m     \u001b[1;31m#load model\u001b[0m\u001b[1;33m\u001b[0m\u001b[1;33m\u001b[0m\u001b[1;33m\u001b[0m\u001b[0m\n\u001b[1;32m---> 13\u001b[1;33m     \u001b[0mmodel\u001b[0m \u001b[1;33m=\u001b[0m \u001b[0mload_model\u001b[0m\u001b[1;33m(\u001b[0m\u001b[0mmodel_name\u001b[0m\u001b[1;33m)\u001b[0m\u001b[1;33m\u001b[0m\u001b[1;33m\u001b[0m\u001b[0m\n\u001b[0m\u001b[0;32m     14\u001b[0m     \u001b[0mdata\u001b[0m \u001b[1;33m=\u001b[0m \u001b[1;33m[\u001b[0m\u001b[1;33m]\u001b[0m\u001b[1;33m\u001b[0m\u001b[1;33m\u001b[0m\u001b[0m\n\u001b[0;32m     15\u001b[0m     \u001b[0mresults\u001b[0m \u001b[1;33m=\u001b[0m \u001b[1;33m[\u001b[0m\u001b[1;33m]\u001b[0m\u001b[1;33m\u001b[0m\u001b[1;33m\u001b[0m\u001b[0m\n",
      "\u001b[1;31mNameError\u001b[0m: name 'load_model' is not defined"
     ]
    }
   ],
   "source": [
    "###\n",
    "steps_per_epoch = [1,1,1,2,2,2,3,3,5,5]\n",
    "epochs = [1,2,3,4,5,6,7,8,9,10,11,12,13,14,15,16,17,18,19,20]\n",
    "acc = []\n",
    "\n",
    "\n",
    "for i in range(0,len(steps_per_epoch)):\n",
    "    model_i = classifier()\n",
    "    model_i.compile(loss=keras.losses.categorical_crossentropy, optimizer='adam', metrics=['accuracy'])\n",
    "    model_i.fit(training_set,steps_per_epoch=steps_per_epoch[i], epochs=epochs[i])\n",
    "    model_name = \"model_\" +str(steps_per_epoch[i])+\"_\"+str(epochs[i])\n",
    "    model_i.save(model_name)\n",
    "    #load model\n",
    "    model = load_model(model_name)\n",
    "    data = []\n",
    "    results = []\n",
    "    for f1 in files:\n",
    "        img = image.load_img(f1, target_size = (64, 64))\n",
    "        img = image.img_to_array(img)\n",
    "        img = np.expand_dims(img, axis = 0)\n",
    "        data.append(img)\n",
    "        result = model.predict(img)\n",
    "        r = np.argmax(result, axis=1)\n",
    "        results.append(r)\n",
    "\n",
    "    results = list(np.concatenate(results))\n",
    "    acc.append([steps_per_epoch[i], epochs[i], results])\n",
    "###"
   ]
  },
  {
   "cell_type": "code",
   "execution_count": 22,
   "metadata": {},
   "outputs": [],
   "source": [
    "def test_img(model):\n",
    "    test_df = pd.DataFrame(columns= Y_train.unique())\n",
    "    for i in test_id:\n",
    "        name = '{}.jpg'.format(i)\n",
    "        test_path = os.path.join(original_path, name) \n",
    "        img = keras.preprocessing.image.load_img(test_path, target_size = target_size)\n",
    "        img = keras.preprocessing.image.img_to_array(img)\n",
    "        img = np.expand_dims(img, axis = 0)\n",
    "        res = model.predict(img)\n",
    "        test_df.loc[i] = res[0]\n",
    "    \n",
    "    return test_df"
   ]
  },
  {
   "cell_type": "code",
   "execution_count": 23,
   "metadata": {},
   "outputs": [],
   "source": [
    "submission = test_img(clf2)"
   ]
  },
  {
   "cell_type": "code",
   "execution_count": 24,
   "metadata": {},
   "outputs": [
    {
     "data": {
      "text/html": [
       "<div>\n",
       "<style scoped>\n",
       "    .dataframe tbody tr th:only-of-type {\n",
       "        vertical-align: middle;\n",
       "    }\n",
       "\n",
       "    .dataframe tbody tr th {\n",
       "        vertical-align: top;\n",
       "    }\n",
       "\n",
       "    .dataframe thead th {\n",
       "        text-align: right;\n",
       "    }\n",
       "</style>\n",
       "<table border=\"1\" class=\"dataframe\">\n",
       "  <thead>\n",
       "    <tr style=\"text-align: right;\">\n",
       "      <th></th>\n",
       "      <th>Acer_Opalus</th>\n",
       "      <th>Pterocarya_Stenoptera</th>\n",
       "      <th>Quercus_Hartwissiana</th>\n",
       "      <th>Tilia_Tomentosa</th>\n",
       "      <th>Quercus_Variabilis</th>\n",
       "      <th>Magnolia_Salicifolia</th>\n",
       "      <th>Quercus_Canariensis</th>\n",
       "      <th>Quercus_Rubra</th>\n",
       "      <th>Quercus_Brantii</th>\n",
       "      <th>Salix_Fragilis</th>\n",
       "      <th>...</th>\n",
       "      <th>Quercus_Ellipsoidalis</th>\n",
       "      <th>Quercus_x_Hispanica</th>\n",
       "      <th>Quercus_Shumardii</th>\n",
       "      <th>Quercus_Rhysophylla</th>\n",
       "      <th>Castanea_Sativa</th>\n",
       "      <th>Ulmus_Bergmanniana</th>\n",
       "      <th>Quercus_Nigra</th>\n",
       "      <th>Salix_Intergra</th>\n",
       "      <th>Quercus_Infectoria_sub</th>\n",
       "      <th>Sorbus_Aria</th>\n",
       "    </tr>\n",
       "  </thead>\n",
       "  <tbody>\n",
       "    <tr>\n",
       "      <th>4</th>\n",
       "      <td>0.0</td>\n",
       "      <td>0.0</td>\n",
       "      <td>0.0</td>\n",
       "      <td>0.0</td>\n",
       "      <td>0.0</td>\n",
       "      <td>0.0</td>\n",
       "      <td>0.0</td>\n",
       "      <td>0.0</td>\n",
       "      <td>0.0</td>\n",
       "      <td>0.0</td>\n",
       "      <td>...</td>\n",
       "      <td>0.0</td>\n",
       "      <td>0.0</td>\n",
       "      <td>0.0</td>\n",
       "      <td>0.0</td>\n",
       "      <td>0.0</td>\n",
       "      <td>0.0</td>\n",
       "      <td>0.0</td>\n",
       "      <td>0.0</td>\n",
       "      <td>0.0</td>\n",
       "      <td>0.0</td>\n",
       "    </tr>\n",
       "    <tr>\n",
       "      <th>7</th>\n",
       "      <td>0.0</td>\n",
       "      <td>0.0</td>\n",
       "      <td>0.0</td>\n",
       "      <td>0.0</td>\n",
       "      <td>0.0</td>\n",
       "      <td>0.0</td>\n",
       "      <td>0.0</td>\n",
       "      <td>0.0</td>\n",
       "      <td>0.0</td>\n",
       "      <td>0.0</td>\n",
       "      <td>...</td>\n",
       "      <td>0.0</td>\n",
       "      <td>0.0</td>\n",
       "      <td>0.0</td>\n",
       "      <td>0.0</td>\n",
       "      <td>0.0</td>\n",
       "      <td>0.0</td>\n",
       "      <td>0.0</td>\n",
       "      <td>0.0</td>\n",
       "      <td>0.0</td>\n",
       "      <td>0.0</td>\n",
       "    </tr>\n",
       "    <tr>\n",
       "      <th>9</th>\n",
       "      <td>0.0</td>\n",
       "      <td>1.0</td>\n",
       "      <td>0.0</td>\n",
       "      <td>0.0</td>\n",
       "      <td>0.0</td>\n",
       "      <td>0.0</td>\n",
       "      <td>0.0</td>\n",
       "      <td>0.0</td>\n",
       "      <td>0.0</td>\n",
       "      <td>0.0</td>\n",
       "      <td>...</td>\n",
       "      <td>0.0</td>\n",
       "      <td>0.0</td>\n",
       "      <td>0.0</td>\n",
       "      <td>0.0</td>\n",
       "      <td>0.0</td>\n",
       "      <td>0.0</td>\n",
       "      <td>0.0</td>\n",
       "      <td>0.0</td>\n",
       "      <td>0.0</td>\n",
       "      <td>0.0</td>\n",
       "    </tr>\n",
       "    <tr>\n",
       "      <th>12</th>\n",
       "      <td>0.0</td>\n",
       "      <td>0.0</td>\n",
       "      <td>0.0</td>\n",
       "      <td>0.0</td>\n",
       "      <td>0.0</td>\n",
       "      <td>0.0</td>\n",
       "      <td>0.0</td>\n",
       "      <td>0.0</td>\n",
       "      <td>0.0</td>\n",
       "      <td>0.0</td>\n",
       "      <td>...</td>\n",
       "      <td>0.0</td>\n",
       "      <td>0.0</td>\n",
       "      <td>0.0</td>\n",
       "      <td>0.0</td>\n",
       "      <td>0.0</td>\n",
       "      <td>0.0</td>\n",
       "      <td>0.0</td>\n",
       "      <td>0.0</td>\n",
       "      <td>0.0</td>\n",
       "      <td>0.0</td>\n",
       "    </tr>\n",
       "    <tr>\n",
       "      <th>13</th>\n",
       "      <td>0.0</td>\n",
       "      <td>0.0</td>\n",
       "      <td>0.0</td>\n",
       "      <td>0.0</td>\n",
       "      <td>0.0</td>\n",
       "      <td>0.0</td>\n",
       "      <td>0.0</td>\n",
       "      <td>0.0</td>\n",
       "      <td>0.0</td>\n",
       "      <td>0.0</td>\n",
       "      <td>...</td>\n",
       "      <td>0.0</td>\n",
       "      <td>0.0</td>\n",
       "      <td>0.0</td>\n",
       "      <td>0.0</td>\n",
       "      <td>0.0</td>\n",
       "      <td>0.0</td>\n",
       "      <td>0.0</td>\n",
       "      <td>0.0</td>\n",
       "      <td>0.0</td>\n",
       "      <td>0.0</td>\n",
       "    </tr>\n",
       "  </tbody>\n",
       "</table>\n",
       "<p>5 rows × 99 columns</p>\n",
       "</div>"
      ],
      "text/plain": [
       "    Acer_Opalus  Pterocarya_Stenoptera  Quercus_Hartwissiana  Tilia_Tomentosa  \\\n",
       "4           0.0                    0.0                   0.0              0.0   \n",
       "7           0.0                    0.0                   0.0              0.0   \n",
       "9           0.0                    1.0                   0.0              0.0   \n",
       "12          0.0                    0.0                   0.0              0.0   \n",
       "13          0.0                    0.0                   0.0              0.0   \n",
       "\n",
       "    Quercus_Variabilis  Magnolia_Salicifolia  Quercus_Canariensis  \\\n",
       "4                  0.0                   0.0                  0.0   \n",
       "7                  0.0                   0.0                  0.0   \n",
       "9                  0.0                   0.0                  0.0   \n",
       "12                 0.0                   0.0                  0.0   \n",
       "13                 0.0                   0.0                  0.0   \n",
       "\n",
       "    Quercus_Rubra  Quercus_Brantii  Salix_Fragilis  ...  \\\n",
       "4             0.0              0.0             0.0  ...   \n",
       "7             0.0              0.0             0.0  ...   \n",
       "9             0.0              0.0             0.0  ...   \n",
       "12            0.0              0.0             0.0  ...   \n",
       "13            0.0              0.0             0.0  ...   \n",
       "\n",
       "    Quercus_Ellipsoidalis  Quercus_x_Hispanica  Quercus_Shumardii  \\\n",
       "4                     0.0                  0.0                0.0   \n",
       "7                     0.0                  0.0                0.0   \n",
       "9                     0.0                  0.0                0.0   \n",
       "12                    0.0                  0.0                0.0   \n",
       "13                    0.0                  0.0                0.0   \n",
       "\n",
       "    Quercus_Rhysophylla  Castanea_Sativa  Ulmus_Bergmanniana  Quercus_Nigra  \\\n",
       "4                   0.0              0.0                 0.0            0.0   \n",
       "7                   0.0              0.0                 0.0            0.0   \n",
       "9                   0.0              0.0                 0.0            0.0   \n",
       "12                  0.0              0.0                 0.0            0.0   \n",
       "13                  0.0              0.0                 0.0            0.0   \n",
       "\n",
       "    Salix_Intergra  Quercus_Infectoria_sub  Sorbus_Aria  \n",
       "4              0.0                     0.0          0.0  \n",
       "7              0.0                     0.0          0.0  \n",
       "9              0.0                     0.0          0.0  \n",
       "12             0.0                     0.0          0.0  \n",
       "13             0.0                     0.0          0.0  \n",
       "\n",
       "[5 rows x 99 columns]"
      ]
     },
     "execution_count": 24,
     "metadata": {},
     "output_type": "execute_result"
    }
   ],
   "source": [
    "submission.head()"
   ]
  },
  {
   "cell_type": "code",
   "execution_count": 25,
   "metadata": {},
   "outputs": [
    {
     "data": {
      "text/plain": [
       "4       1.0\n",
       "7       1.0\n",
       "9       1.0\n",
       "12      1.0\n",
       "13      1.0\n",
       "       ... \n",
       "1576    1.0\n",
       "1577    1.0\n",
       "1579    1.0\n",
       "1580    1.0\n",
       "1583    1.0\n",
       "Length: 594, dtype: float64"
      ]
     },
     "execution_count": 25,
     "metadata": {},
     "output_type": "execute_result"
    }
   ],
   "source": [
    "submission.apply(sum,axis=1)"
   ]
  },
  {
   "cell_type": "code",
   "execution_count": null,
   "metadata": {},
   "outputs": [],
   "source": []
  }
 ],
 "metadata": {
  "kernelspec": {
   "display_name": "Python 3",
   "language": "python",
   "name": "python3"
  },
  "language_info": {
   "codemirror_mode": {
    "name": "ipython",
    "version": 3
   },
   "file_extension": ".py",
   "mimetype": "text/x-python",
   "name": "python",
   "nbconvert_exporter": "python",
   "pygments_lexer": "ipython3",
   "version": "3.8.8"
  }
 },
 "nbformat": 4,
 "nbformat_minor": 4
}
